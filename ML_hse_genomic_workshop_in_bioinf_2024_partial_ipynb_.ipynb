{
  "cells": [
    {
      "cell_type": "markdown",
      "metadata": {
        "id": "8rrR7ExNWdwA"
      },
      "source": [
        "There are a lot of different official torch geometric tutorials [here](https://pytorch-geometric.readthedocs.io/en/latest/get_started/colabs.html). You can also use other libraries from writing GNNs (Tensorflow, DGL, etc.)\n",
        "\n"
      ]
    },
    {
      "cell_type": "markdown",
      "metadata": {
        "id": "ibwtdEnZc-87"
      },
      "source": [
        "# Installation"
      ]
    },
    {
      "cell_type": "code",
      "execution_count": null,
      "metadata": {
        "id": "UHflUeKCdBbs",
        "colab": {
          "base_uri": "https://localhost:8080/"
        },
        "outputId": "36e0d7e1-6d30-4672-e429-6c1ffd9238be"
      },
      "outputs": [
        {
          "output_type": "stream",
          "name": "stdout",
          "text": [
            "Collecting torch_geometric\n",
            "  Downloading torch_geometric-2.5.3-py3-none-any.whl.metadata (64 kB)\n",
            "\u001b[?25l     \u001b[90m━━━━━━━━━━━━━━━━━━━━━━━━━━━━━━━━━━━━━━━━\u001b[0m \u001b[32m0.0/64.2 kB\u001b[0m \u001b[31m?\u001b[0m eta \u001b[36m-:--:--\u001b[0m\r\u001b[2K     \u001b[90m━━━━━━━━━━━━━━━━━━━━━━━━━━━━━━━━━━━━━━━━\u001b[0m \u001b[32m64.2/64.2 kB\u001b[0m \u001b[31m1.7 MB/s\u001b[0m eta \u001b[36m0:00:00\u001b[0m\n",
            "\u001b[?25hRequirement already satisfied: tqdm in /usr/local/lib/python3.10/dist-packages (from torch_geometric) (4.66.5)\n",
            "Requirement already satisfied: numpy in /usr/local/lib/python3.10/dist-packages (from torch_geometric) (1.26.4)\n",
            "Requirement already satisfied: scipy in /usr/local/lib/python3.10/dist-packages (from torch_geometric) (1.13.1)\n",
            "Requirement already satisfied: fsspec in /usr/local/lib/python3.10/dist-packages (from torch_geometric) (2024.6.1)\n",
            "Requirement already satisfied: jinja2 in /usr/local/lib/python3.10/dist-packages (from torch_geometric) (3.1.4)\n",
            "Requirement already satisfied: aiohttp in /usr/local/lib/python3.10/dist-packages (from torch_geometric) (3.10.5)\n",
            "Requirement already satisfied: requests in /usr/local/lib/python3.10/dist-packages (from torch_geometric) (2.32.3)\n",
            "Requirement already satisfied: pyparsing in /usr/local/lib/python3.10/dist-packages (from torch_geometric) (3.1.2)\n",
            "Requirement already satisfied: scikit-learn in /usr/local/lib/python3.10/dist-packages (from torch_geometric) (1.3.2)\n",
            "Requirement already satisfied: psutil>=5.8.0 in /usr/local/lib/python3.10/dist-packages (from torch_geometric) (5.9.5)\n",
            "Requirement already satisfied: aiohappyeyeballs>=2.3.0 in /usr/local/lib/python3.10/dist-packages (from aiohttp->torch_geometric) (2.4.0)\n",
            "Requirement already satisfied: aiosignal>=1.1.2 in /usr/local/lib/python3.10/dist-packages (from aiohttp->torch_geometric) (1.3.1)\n",
            "Requirement already satisfied: attrs>=17.3.0 in /usr/local/lib/python3.10/dist-packages (from aiohttp->torch_geometric) (24.2.0)\n",
            "Requirement already satisfied: frozenlist>=1.1.1 in /usr/local/lib/python3.10/dist-packages (from aiohttp->torch_geometric) (1.4.1)\n",
            "Requirement already satisfied: multidict<7.0,>=4.5 in /usr/local/lib/python3.10/dist-packages (from aiohttp->torch_geometric) (6.0.5)\n",
            "Requirement already satisfied: yarl<2.0,>=1.0 in /usr/local/lib/python3.10/dist-packages (from aiohttp->torch_geometric) (1.9.4)\n",
            "Requirement already satisfied: async-timeout<5.0,>=4.0 in /usr/local/lib/python3.10/dist-packages (from aiohttp->torch_geometric) (4.0.3)\n",
            "Requirement already satisfied: MarkupSafe>=2.0 in /usr/local/lib/python3.10/dist-packages (from jinja2->torch_geometric) (2.1.5)\n",
            "Requirement already satisfied: charset-normalizer<4,>=2 in /usr/local/lib/python3.10/dist-packages (from requests->torch_geometric) (3.3.2)\n",
            "Requirement already satisfied: idna<4,>=2.5 in /usr/local/lib/python3.10/dist-packages (from requests->torch_geometric) (3.7)\n",
            "Requirement already satisfied: urllib3<3,>=1.21.1 in /usr/local/lib/python3.10/dist-packages (from requests->torch_geometric) (2.0.7)\n",
            "Requirement already satisfied: certifi>=2017.4.17 in /usr/local/lib/python3.10/dist-packages (from requests->torch_geometric) (2024.7.4)\n",
            "Requirement already satisfied: joblib>=1.1.1 in /usr/local/lib/python3.10/dist-packages (from scikit-learn->torch_geometric) (1.4.2)\n",
            "Requirement already satisfied: threadpoolctl>=2.0.0 in /usr/local/lib/python3.10/dist-packages (from scikit-learn->torch_geometric) (3.5.0)\n",
            "Downloading torch_geometric-2.5.3-py3-none-any.whl (1.1 MB)\n",
            "\u001b[2K   \u001b[90m━━━━━━━━━━━━━━━━━━━━━━━━━━━━━━━━━━━━━━━━\u001b[0m \u001b[32m1.1/1.1 MB\u001b[0m \u001b[31m11.1 MB/s\u001b[0m eta \u001b[36m0:00:00\u001b[0m\n",
            "\u001b[?25hInstalling collected packages: torch_geometric\n",
            "Successfully installed torch_geometric-2.5.3\n"
          ]
        }
      ],
      "source": [
        "! pip install torch_geometric"
      ]
    },
    {
      "cell_type": "markdown",
      "metadata": {
        "id": "hk6yww1hdD8i"
      },
      "source": [
        "# Importing"
      ]
    },
    {
      "cell_type": "code",
      "execution_count": null,
      "metadata": {
        "id": "rywNF_i1cbrc"
      },
      "outputs": [],
      "source": [
        "import torch\n",
        "import pickle\n",
        "import numpy as np\n",
        "from numpy import inf\n",
        "import networkx as nx\n",
        "import torch_geometric\n",
        "from tqdm.notebook import tqdm\n",
        "from sklearn.metrics import f1_score\n",
        "import matplotlib.colors as colors\n",
        "import matplotlib as mpl\n",
        "import matplotlib.pyplot as plt\n",
        "import torch.nn.functional as F\n",
        "from torch_geometric.utils import to_networkx, from_networkx\n",
        "from torch_geometric.nn import SAGEConv, GCNConv, LabelPropagation"
      ]
    },
    {
      "cell_type": "markdown",
      "metadata": {
        "id": "c_RiYrSyJ4F9"
      },
      "source": [
        "# Example"
      ]
    },
    {
      "cell_type": "markdown",
      "metadata": {
        "id": "P7vWLXYabuas"
      },
      "source": [
        "Create some simple graph"
      ]
    },
    {
      "cell_type": "code",
      "execution_count": null,
      "metadata": {
        "id": "EvS7wYs7bt7V"
      },
      "outputs": [],
      "source": [
        "# initialize empty graph\n",
        "G = nx.Graph()\n",
        "\n",
        "# add nodes and node features\n",
        "G.add_nodes_from([\n",
        "      (1, {'x': [0.1, 0.2, 0.3, 0.4, 0.5]}),\n",
        "      (2, {'x': [0.1, 0.2, 0.3, 0.4, 0.5]}),\n",
        "      (3, {'x': [0.6, 0.7, 0.8, 0.9, 1.0]}),\n",
        "      (4, {'x': [1.1, 1.2, 1.3, 1.4, 1.5]}),\n",
        "])\n",
        "\n",
        "# add edges\n",
        "G.add_edges_from([(1, 3), (2, 3)])"
      ]
    },
    {
      "cell_type": "markdown",
      "metadata": {
        "id": "P1Upgl7kdHma"
      },
      "source": [
        "Visualize this simple graph"
      ]
    },
    {
      "cell_type": "code",
      "execution_count": null,
      "metadata": {
        "id": "kMiF_a9bdKHI",
        "colab": {
          "base_uri": "https://localhost:8080/",
          "height": 516
        },
        "outputId": "6595c194-d98b-4d6b-ee7f-632d894f86ea"
      },
      "outputs": [
        {
          "output_type": "display_data",
          "data": {
            "text/plain": [
              "<Figure size 640x480 with 1 Axes>"
            ],
            "image/png": "[encoded data removed]"
          },
          "metadata": {}
        }
      ],
      "source": [
        "nx.draw(G, with_labels=True)"
      ]
    },
    {
      "cell_type": "markdown",
      "metadata": {
        "id": "RYZmMwSed1dl"
      },
      "source": [
        "Convert `nx.Graph` to torch geometric `Data` object automatically"
      ]
    },
    {
      "cell_type": "code",
      "execution_count": null,
      "metadata": {
        "id": "4UQMQPR_d0hv",
        "colab": {
          "base_uri": "https://localhost:8080/"
        },
        "outputId": "1b9ede0a-aad2-4430-aafb-87f18f76d763"
      },
      "outputs": [
        {
          "output_type": "execute_result",
          "data": {
            "text/plain": [
              "Data(x=[4, 5], edge_index=[2, 4])"
            ]
          },
          "metadata": {},
          "execution_count": 7
        }
      ],
      "source": [
        "pyg_graph = from_networkx(G)\n",
        "pyg_graph"
      ]
    },
    {
      "cell_type": "code",
      "execution_count": null,
      "metadata": {
        "id": "9Js_MKVjhZVf",
        "colab": {
          "base_uri": "https://localhost:8080/"
        },
        "outputId": "e1d35c89-c9b9-4652-9477-d76876fdf376"
      },
      "outputs": [
        {
          "output_type": "execute_result",
          "data": {
            "text/plain": [
              "5"
            ]
          },
          "metadata": {},
          "execution_count": 8
        }
      ],
      "source": [
        "# here is the usful feature of Data object\n",
        "pyg_graph.num_features"
      ]
    },
    {
      "cell_type": "markdown",
      "metadata": {
        "id": "RVQuIu2leYmY"
      },
      "source": [
        "Note that now edges are duplicated. Why?"
      ]
    },
    {
      "cell_type": "code",
      "execution_count": null,
      "metadata": {
        "id": "6XknYKcBeTaQ",
        "colab": {
          "base_uri": "https://localhost:8080/"
        },
        "outputId": "300f6b66-3a77-4c9c-96ce-cea45c035d7b"
      },
      "outputs": [
        {
          "output_type": "execute_result",
          "data": {
            "text/plain": [
              "tensor([[0, 1, 2, 2],\n",
              "        [2, 2, 0, 1]])"
            ]
          },
          "metadata": {},
          "execution_count": 9
        }
      ],
      "source": [
        "# directed graph?\n",
        "pyg_graph.edge_index"
      ]
    },
    {
      "cell_type": "markdown",
      "metadata": {
        "id": "-XxICTsoh2ry"
      },
      "source": [
        "Let's see how basic GCN layer works"
      ]
    },
    {
      "cell_type": "code",
      "execution_count": null,
      "metadata": {
        "id": "MuLUdb0esCSX"
      },
      "outputs": [],
      "source": [
        "hidden_dim = 5"
      ]
    },
    {
      "cell_type": "code",
      "execution_count": null,
      "metadata": {
        "id": "FSjCmDtAg5uR"
      },
      "outputs": [],
      "source": [
        "gcn_layer = GCNConv(pyg_graph.num_features, hidden_dim, bias=False)"
      ]
    },
    {
      "cell_type": "markdown",
      "metadata": {
        "id": "kEGRJRPUi9hA"
      },
      "source": [
        "Let's see what is inside this layer"
      ]
    },
    {
      "cell_type": "code",
      "execution_count": null,
      "metadata": {
        "id": "2Qw4vvPQjCwX",
        "colab": {
          "base_uri": "https://localhost:8080/"
        },
        "outputId": "d0820a23-be41-4857-9588-822a27d1f0c4"
      },
      "outputs": [
        {
          "output_type": "stream",
          "name": "stdout",
          "text": [
            "lin.weight tensor([[-0.1689,  0.0184,  0.2424, -0.2993,  0.4715],\n",
            "        [-0.4563,  0.4355,  0.0175, -0.6510, -0.3094],\n",
            "        [ 0.0680, -0.1416,  0.2327,  0.0259,  0.1462],\n",
            "        [ 0.2643, -0.0443, -0.2644, -0.5944, -0.1486],\n",
            "        [-0.1754,  0.0596,  0.4309, -0.1926,  0.5768]])\n"
          ]
        }
      ],
      "source": [
        "for name, param in gcn_layer.named_parameters():\n",
        "    print(name, param.data)"
      ]
    },
    {
      "cell_type": "markdown",
      "metadata": {
        "id": "QcIx7eAqjxwR"
      },
      "source": [
        "We can see that parameters were randomly initialized. We will change them for simplicity"
      ]
    },
    {
      "cell_type": "code",
      "execution_count": null,
      "metadata": {
        "id": "scYefQChkYtw"
      },
      "outputs": [],
      "source": [
        "with torch.no_grad():\n",
        "    gcn_layer.lin.weight = torch.nn.Parameter(torch.ones_like(gcn_layer.lin.weight))"
      ]
    },
    {
      "cell_type": "code",
      "execution_count": null,
      "metadata": {
        "id": "KylJsxXukw3P",
        "colab": {
          "base_uri": "https://localhost:8080/"
        },
        "outputId": "dc7fcde7-1db1-4027-9a79-b958f59d39f3"
      },
      "outputs": [
        {
          "output_type": "stream",
          "name": "stdout",
          "text": [
            "lin.weight tensor([[1., 1., 1., 1., 1.],\n",
            "        [1., 1., 1., 1., 1.],\n",
            "        [1., 1., 1., 1., 1.],\n",
            "        [1., 1., 1., 1., 1.],\n",
            "        [1., 1., 1., 1., 1.]])\n"
          ]
        }
      ],
      "source": [
        "for name, param in gcn_layer.named_parameters():\n",
        "    print(name, param.data)"
      ]
    },
    {
      "cell_type": "markdown",
      "metadata": {
        "id": "zcdYWugsk2YI"
      },
      "source": [
        "Now, let's see how features of our nodes in our graph will change when we pass our graph through GCN layer"
      ]
    },
    {
      "cell_type": "code",
      "execution_count": null,
      "metadata": {
        "id": "M8tC3a3zlC9r"
      },
      "outputs": [],
      "source": [
        "with torch.no_grad():\n",
        "    x = gcn_layer(pyg_graph.x, pyg_graph.edge_index)"
      ]
    },
    {
      "cell_type": "code",
      "execution_count": null,
      "metadata": {
        "id": "oFOkLd6Aloir",
        "colab": {
          "base_uri": "https://localhost:8080/"
        },
        "outputId": "1e31e95e-3358-4b47-fd57-dc9487fae8aa"
      },
      "outputs": [
        {
          "output_type": "execute_result",
          "data": {
            "text/plain": [
              "tensor([[2.3830, 2.3830, 2.3830, 2.3830, 2.3830],\n",
              "        [2.3830, 2.3830, 2.3830, 2.3830, 2.3830],\n",
              "        [2.5581, 2.5581, 2.5581, 2.5581, 2.5581],\n",
              "        [6.5000, 6.5000, 6.5000, 6.5000, 6.5000]])"
            ]
          },
          "metadata": {},
          "execution_count": 16
        }
      ],
      "source": [
        "x"
      ]
    },
    {
      "cell_type": "markdown",
      "metadata": {
        "id": "KMPXBRdyne_S"
      },
      "source": [
        "How did we get this output? Have a look at the formula from [documentation](https://pytorch-geometric.readthedocs.io/en/latest/generated/torch_geometric.nn.conv.GCNConv.html#torch_geometric.nn.conv.GCNConv)."
      ]
    },
    {
      "cell_type": "markdown",
      "metadata": {
        "id": "rCIPcqorn9oU"
      },
      "source": [
        "![image.png](data:image/png;base64,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)"
      ]
    },
    {
      "cell_type": "markdown",
      "metadata": {
        "id": "CFhZ064Fp4Cw"
      },
      "source": [
        "Let's write this formula from scratch. See the similarities with Symmetrically normalized Laplacian [here](https://en.wikipedia.org/wiki/Laplacian_matrix), just without self-loops"
      ]
    },
    {
      "cell_type": "code",
      "execution_count": null,
      "metadata": {
        "id": "Y7o1l3JPp93Q"
      },
      "outputs": [],
      "source": [
        "def manual_gcn(G, X):\n",
        "    A = nx.adjacency_matrix(G).todense() #взяли матрицу смежност\n",
        "    A_hat = A + np.identity(A.shape[0])#добавили к ней единичную матрицу\n",
        "    D_hat = nx.laplacian_matrix(G) + A + np.identity(A.shape[0]) # The graph Laplacian is the matrix L = D - A, where A is the adjacency matrix and D is the diagonal matrix of node degrees\n",
        "    TETA = np.ones((pyg_graph.num_features, hidden_dim)) # like our layer weights\n",
        "    with np.errstate(divide=\"ignore\"):\n",
        "        D_hat_pow = D_hat ** -0.5 # element-wise\n",
        "    D_hat_pow[D_hat_pow == inf] = 0\n",
        "    return D_hat_pow @ A_hat @ D_hat_pow, D_hat_pow @ A_hat @ D_hat_pow @ X @ TETA"
      ]
    },
    {
      "cell_type": "code",
      "execution_count": null,
      "metadata": {
        "id": "ReoUPcs9sdrK"
      },
      "outputs": [],
      "source": [
        "norm_laplac, layer_output = manual_gcn(G, pyg_graph.x.numpy())"
      ]
    },
    {
      "cell_type": "code",
      "execution_count": null,
      "metadata": {
        "id": "YyfZU01wMyAd",
        "colab": {
          "base_uri": "https://localhost:8080/"
        },
        "outputId": "a22b4a8b-8537-4249-9717-00c470345ebc"
      },
      "outputs": [
        {
          "output_type": "execute_result",
          "data": {
            "text/plain": [
              "array([[2.38299317, 2.38299317, 2.38299317, 2.38299317, 2.38299317],\n",
              "       [2.38299317, 2.38299317, 2.38299317, 2.38299317, 2.38299317],\n",
              "       [2.55807822, 2.55807822, 2.55807822, 2.55807822, 2.55807822],\n",
              "       [6.5       , 6.5       , 6.5       , 6.5       , 6.5       ]])"
            ]
          },
          "metadata": {},
          "execution_count": 19
        }
      ],
      "source": [
        "layer_output # same output as from torch geometric layer"
      ]
    },
    {
      "cell_type": "markdown",
      "metadata": {
        "id": "7_OPlxQgNNL8"
      },
      "source": [
        "Let's look a little bit in detail"
      ]
    },
    {
      "cell_type": "code",
      "execution_count": null,
      "metadata": {
        "id": "DB6bGqH4M571",
        "colab": {
          "base_uri": "https://localhost:8080/"
        },
        "outputId": "072e8809-d9e3-4a7c-e97d-8a2caf64fba6"
      },
      "outputs": [
        {
          "output_type": "execute_result",
          "data": {
            "text/plain": [
              "array([[0.5       , 0.        , 0.40824829, 0.        ],\n",
              "       [0.        , 0.5       , 0.40824829, 0.        ],\n",
              "       [0.40824829, 0.40824829, 0.33333333, 0.        ],\n",
              "       [0.        , 0.        , 0.        , 1.        ]])"
            ]
          },
          "metadata": {},
          "execution_count": 19
        }
      ],
      "source": [
        "# norm_laplac @ X @ TETA - below is first multiplier\n",
        "norm_laplac"
      ]
    },
    {
      "cell_type": "code",
      "execution_count": null,
      "metadata": {
        "id": "rpzlGs5dNTJS",
        "colab": {
          "base_uri": "https://localhost:8080/"
        },
        "outputId": "724eab2e-27db-44c4-c0ca-b807eeb035f9"
      },
      "outputs": [
        {
          "output_type": "execute_result",
          "data": {
            "text/plain": [
              "array([[0.1, 0.2, 0.3, 0.4, 0.5],\n",
              "       [0.1, 0.2, 0.3, 0.4, 0.5],\n",
              "       [0.6, 0.7, 0.8, 0.9, 1. ],\n",
              "       [1.1, 1.2, 1.3, 1.4, 1.5]], dtype=float32)"
            ]
          },
          "metadata": {},
          "execution_count": 20
        }
      ],
      "source": [
        "# norm_laplac @ X @ TETA - below is second multiplier\n",
        "pyg_graph.x.numpy()"
      ]
    },
    {
      "cell_type": "markdown",
      "metadata": {
        "id": "F7xdCMcSN8JK"
      },
      "source": [
        "We can notice that when we multiply `norm_laplac` by `X` we aggregate features only from local neighbors"
      ]
    },
    {
      "cell_type": "markdown",
      "source": [
        "Testing permutation equivariance. Let's create the same graph with the same features but different node labeling"
      ],
      "metadata": {
        "id": "Zba_cyUv-5ic"
      }
    },
    {
      "cell_type": "code",
      "source": [
        "G_new = nx.Graph()\n",
        "G_new.add_nodes_from([\n",
        "      (1, {'x': [1.1, 1.2, 1.3, 1.4, 1.5]}),\n",
        "      (2, {'x': [0.6, 0.7, 0.8, 0.9, 1.0]}),\n",
        "      (3, {'x': [0.1, 0.2, 0.3, 0.4, 0.5]}),\n",
        "      (4, {'x': [0.1, 0.2, 0.3, 0.4, 0.5]}),\n",
        "])\n",
        "G_new.add_edges_from([(4, 2), (3, 2)])"
      ],
      "metadata": {
        "id": "gEGTbDh-AiQs"
      },
      "execution_count": null,
      "outputs": []
    },
    {
      "cell_type": "code",
      "source": [
        "nx.draw(G_new, with_labels=True)"
      ],
      "metadata": {
        "id": "ZX3iM1maCV3R",
        "colab": {
          "base_uri": "https://localhost:8080/",
          "height": 516
        },
        "outputId": "38b1075a-61e0-4ef6-839d-abc453027a19"
      },
      "execution_count": null,
      "outputs": [
        {
          "output_type": "display_data",
          "data": {
            "text/plain": [
              "<Figure size 640x480 with 1 Axes>"
            ],
            "image/png": "[encoded data removed]"
          },
          "metadata": {}
        }
      ]
    },
    {
      "cell_type": "code",
      "source": [
        "pyg_graph_new = from_networkx(G_new)"
      ],
      "metadata": {
        "id": "ODq-xZ-5BDyX"
      },
      "execution_count": null,
      "outputs": []
    },
    {
      "cell_type": "markdown",
      "source": [
        "Let's check adjacency matrix from old and new graphs"
      ],
      "metadata": {
        "id": "IWW7-UaQBRaH"
      }
    },
    {
      "cell_type": "code",
      "source": [
        "# old\n",
        "nx.adjacency_matrix(G).todense()"
      ],
      "metadata": {
        "id": "6HFIMvMdBYVg",
        "colab": {
          "base_uri": "https://localhost:8080/"
        },
        "outputId": "d9143135-198d-4a6c-e068-5661e6379c8c"
      },
      "execution_count": null,
      "outputs": [
        {
          "output_type": "execute_result",
          "data": {
            "text/plain": [
              "array([[0, 0, 1, 0],\n",
              "       [0, 0, 1, 0],\n",
              "       [1, 1, 0, 0],\n",
              "       [0, 0, 0, 0]])"
            ]
          },
          "metadata": {},
          "execution_count": 24
        }
      ]
    },
    {
      "cell_type": "code",
      "source": [
        "# new\n",
        "nx.adjacency_matrix(G_new).todense()"
      ],
      "metadata": {
        "id": "KBXvsZC2BayV",
        "colab": {
          "base_uri": "https://localhost:8080/"
        },
        "outputId": "1a4dab45-45a0-4c5f-f41c-5e67931bcf20"
      },
      "execution_count": null,
      "outputs": [
        {
          "output_type": "execute_result",
          "data": {
            "text/plain": [
              "array([[0, 0, 0, 0],\n",
              "       [0, 0, 1, 1],\n",
              "       [0, 1, 0, 0],\n",
              "       [0, 1, 0, 0]])"
            ]
          },
          "metadata": {},
          "execution_count": 25
        }
      ]
    },
    {
      "cell_type": "markdown",
      "source": [
        "The order of features changed as well"
      ],
      "metadata": {
        "id": "VQ27X3tQG6Xb"
      }
    },
    {
      "cell_type": "code",
      "source": [
        "pyg_graph.x"
      ],
      "metadata": {
        "id": "dyldAIeSHCSH",
        "colab": {
          "base_uri": "https://localhost:8080/"
        },
        "outputId": "75059d32-2222-4417-9988-321cc9f57fda"
      },
      "execution_count": null,
      "outputs": [
        {
          "output_type": "execute_result",
          "data": {
            "text/plain": [
              "tensor([[0.1000, 0.2000, 0.3000, 0.4000, 0.5000],\n",
              "        [0.1000, 0.2000, 0.3000, 0.4000, 0.5000],\n",
              "        [0.6000, 0.7000, 0.8000, 0.9000, 1.0000],\n",
              "        [1.1000, 1.2000, 1.3000, 1.4000, 1.5000]])"
            ]
          },
          "metadata": {},
          "execution_count": 26
        }
      ]
    },
    {
      "cell_type": "code",
      "source": [
        "pyg_graph_new.x"
      ],
      "metadata": {
        "id": "GRGrrzeaG93K",
        "colab": {
          "base_uri": "https://localhost:8080/"
        },
        "outputId": "3e7f7bf0-0e84-4e6a-8a14-0de11de3793c"
      },
      "execution_count": null,
      "outputs": [
        {
          "output_type": "execute_result",
          "data": {
            "text/plain": [
              "tensor([[1.1000, 1.2000, 1.3000, 1.4000, 1.5000],\n",
              "        [0.6000, 0.7000, 0.8000, 0.9000, 1.0000],\n",
              "        [0.1000, 0.2000, 0.3000, 0.4000, 0.5000],\n",
              "        [0.1000, 0.2000, 0.3000, 0.4000, 0.5000]])"
            ]
          },
          "metadata": {},
          "execution_count": 27
        }
      ]
    },
    {
      "cell_type": "markdown",
      "source": [
        "Get output from GCN layer"
      ],
      "metadata": {
        "id": "7RPngqqpCgq6"
      }
    },
    {
      "cell_type": "code",
      "source": [
        "with torch.no_grad():\n",
        "    x_new = gcn_layer(pyg_graph_new.x, pyg_graph_new.edge_index)"
      ],
      "metadata": {
        "id": "a3T8VHQF-9xV"
      },
      "execution_count": null,
      "outputs": []
    },
    {
      "cell_type": "code",
      "source": [
        "x_new"
      ],
      "metadata": {
        "id": "cLQDDR00_gkV",
        "colab": {
          "base_uri": "https://localhost:8080/"
        },
        "outputId": "7a67401f-0546-4e49-ad1b-1d783894602e"
      },
      "execution_count": null,
      "outputs": [
        {
          "output_type": "execute_result",
          "data": {
            "text/plain": [
              "tensor([[6.5000, 6.5000, 6.5000, 6.5000, 6.5000],\n",
              "        [2.5581, 2.5581, 2.5581, 2.5581, 2.5581],\n",
              "        [2.3830, 2.3830, 2.3830, 2.3830, 2.3830],\n",
              "        [2.3830, 2.3830, 2.3830, 2.3830, 2.3830]])"
            ]
          },
          "metadata": {},
          "execution_count": 29
        }
      ]
    },
    {
      "cell_type": "markdown",
      "source": [
        "Are CNN equvariant? What about MLP and Transformers (before and after positional encoding)?"
      ],
      "metadata": {
        "id": "KZkP_AusH9a2"
      }
    },
    {
      "cell_type": "markdown",
      "metadata": {
        "id": "5pkGgmh2KBRP"
      },
      "source": [
        "# Exercise"
      ]
    },
    {
      "cell_type": "markdown",
      "metadata": {
        "id": "a2-S91sfrezF"
      },
      "source": [
        "Imagine you are the CEO of the company that sells genetic tests. Now you want to improve the accuracy of your DNA ancestry tests by using GNNs. How can we do that? You have the database that consists of a huge amount of SNPs after using microarray genotyping for each person. You decide to shrink all that data down by utilizing HMM that identifies common IBD regions between each pair of individuals, you calculate the total length of all common IBD segments between each pair of individuals in your database and construct IBD graph where edge between two individuals exists only if the length of all common IBD segments bigger than some threshold. Now you have such an IBD graph for your whole database. In order to train your NN correctly you need at least training and validation datasets. However, you need to mimic the situation when a new customer arrives and you need to calculate edges between the new client and your database for them each. Thus, you decide to split all your vertices in two parts: those that are designated for training (train nodes) and those that are for validation (valid nodes). Then you construct graph for training as a subgraph of initial graph with train nodes but for each valid node you construct its own graph as subgraph of initial graph with train nodes **+1 valid node**. For simplicity you can calculate features for each node directly from the graph: number of edges from current node to the neighbors per class (population group), mean edge weight of edges from current node to the neighbors per class, std of edge weights per class etc. Finally, you need to predict the population group for a group of new clients.\n",
        "\n",
        "We already prepared the data for you, you just need to train your GNN properly. Follow the instructions below.\n",
        "\n"
      ]
    },
    {
      "cell_type": "markdown",
      "metadata": {
        "id": "KbpjEouqSGCf"
      },
      "source": [
        "Mount Google Drive to Colab in order to access files for training your GNN. Move [this](https://drive.google.com/drive/folders/1iYfunzsIG3XYfxN1l2-ozGw7zvfu56jo?usp=sharing) files to you own Google Drive"
      ]
    },
    {
      "cell_type": "code",
      "execution_count": null,
      "metadata": {
        "id": "bHH-LDD5KFmF",
        "colab": {
          "base_uri": "https://localhost:8080/"
        },
        "outputId": "92369ccf-0edb-46d2-8ab7-7986250a80a1"
      },
      "outputs": [
        {
          "output_type": "stream",
          "name": "stdout",
          "text": [
            "Drive already mounted at /content/drive; to attempt to forcibly remount, call drive.mount(\"/content/drive\", force_remount=True).\n"
          ]
        }
      ],
      "source": [
        "from google.colab import drive\n",
        "drive.mount('/content/drive')"
      ]
    },
    {
      "cell_type": "markdown",
      "metadata": {
        "id": "8zr0hcdVSXw1"
      },
      "source": [
        "Load files:\n",
        "\n",
        "*   `train_graphs` - array of graphs for training GNN (actually, it's one graph)\n",
        "*   `valid_graphs` - you will validate your model on these graphs during training\n",
        "*   `unknown_graphs` - you need to predict labels for specific nodes in these graphs - **that will be you final answer**\n",
        "\n"
      ]
    },
    {
      "cell_type": "code",
      "execution_count": null,
      "metadata": {
        "id": "275NDYOGR9Ib"
      },
      "outputs": [],
      "source": [
        "YOUR_PATH = '/content/drive/MyDrive/ML hse'\n",
        "\n",
        "with open(f'{YOUR_PATH}/Копия файла \"train_graphs.pickle\"', 'rb') as handle:\n",
        "    train_graphs = pickle.load(handle)\n",
        "\n",
        "with open(f'{YOUR_PATH}/Копия файла \"valid_graphs.pickle\"', 'rb') as handle:\n",
        "    valid_graphs = pickle.load(handle)\n",
        "\n",
        "with open(f'{YOUR_PATH}/Копия файла \"unknown_graphs.pickle\"', 'rb') as handle:\n",
        "    unknown_graphs = pickle.load(handle)"
      ]
    },
    {
      "cell_type": "markdown",
      "metadata": {
        "id": "y9MLMSDxUfK5"
      },
      "source": [
        "Examine data"
      ]
    },
    {
      "cell_type": "code",
      "execution_count": null,
      "metadata": {
        "id": "K7dyPmSSU9MO",
        "colab": {
          "base_uri": "https://localhost:8080/"
        },
        "outputId": "dfa34346-d577-4b98-bc11-2600351d42fa"
      },
      "outputs": [
        {
          "output_type": "stream",
          "name": "stdout",
          "text": [
            "We have 1 graph for training, 368 graph for validation and 31 graphs where we need to predict label for vertex with unknown population group.\n"
          ]
        }
      ],
      "source": [
        "print(f'We have {len(train_graphs)} graph for training, {len(valid_graphs)} graph for validation and {len(unknown_graphs)} graphs where we need to predict label for vertex with unknown population group.')"
      ]
    },
    {
      "cell_type": "markdown",
      "metadata": {
        "id": "iqj04ktQpPfN"
      },
      "source": [
        "Check the structure of those arrays of graphs. Note that graphs for validation and unknown graphs have just one vertex more than training graph, that's the requerements of our task. The number of edges has no any limits and may vary. Remember that we simulate behaviour of real company: we have our database (`train_graphs` which is actually array with one graph, we will use this graph to train our model, and `valid_graphs` which are train graph with one more different node added each, we know labels for all nodes in each graph in `valid_graphs` but we want to compute quality metrics only for those newly added nodes in order to mimic new customers that came to our company), than we train our GNN on `train_graphs` and validate on `valid_graphs`, after finding the model that gave us best scores on `valid_graphs`, we use that model to predict labels for unknown nodes in `unknown_graphs` - the last thing is the end of the task. For graphs in `unknown_graphs` we know labels for all nodes except one (this is your target node), the class of this node has been marked as `-1`, this is the last node in each graph. Here is the explanation of parameters in `Data` object:\n",
        "\n",
        "*   `x` - features of each node (row `0` in `x` has features for node `0`, row `1` in `x` has features for node `1` etc.), those features were calculated based on the same graph because IBD graphs don't have node features\n",
        "*   `edge_index` - edges between nodes (already duplicated)\n",
        "*   `y` - labels (population groups) of each node, ordered the same as features in `x`\n",
        "*   `weight` - edge weights, have the same ordering as `x` (may be helpful in some cases)\n",
        "*   `mask` - in our task it's always boolean array where all values are True, however, you can modify it, hide some nodes during loss computation phase and see how it affects  performance\n",
        "*   `num_classes` - int, total amount of unique labels\n",
        "\n",
        "\n",
        "\n",
        "\n",
        "\n"
      ]
    },
    {
      "cell_type": "code",
      "execution_count": null,
      "metadata": {
        "id": "vk4JU_FLTcxL",
        "colab": {
          "base_uri": "https://localhost:8080/"
        },
        "outputId": "6d028521-e48b-4663-8aee-68fce565025e"
      },
      "outputs": [
        {
          "output_type": "execute_result",
          "data": {
            "text/plain": [
              "[Data(x=[1110, 24], edge_index=[2, 92120], y=[1110], weight=[92120], mask=[1110], num_classes=8)]"
            ]
          },
          "metadata": {},
          "execution_count": 42
        }
      ],
      "source": [
        "train_graphs"
      ]
    },
    {
      "cell_type": "markdown",
      "source": [
        "Let's look at the class balance in training data"
      ],
      "metadata": {
        "id": "3CHCM_EoL0EZ"
      }
    },
    {
      "cell_type": "code",
      "source": [
        "population_groups, counts = np.unique(train_graphs[0].y.numpy(), return_counts=True)\n",
        "print(f'Here is our population groups: {population_groups}')\n",
        "print(f'Here is amount of vertices per each population group respectively: {counts}')"
      ],
      "metadata": {
        "id": "w7LzOZIyL5hg",
        "colab": {
          "base_uri": "https://localhost:8080/"
        },
        "outputId": "4675330c-7071-438c-d0eb-4aab7fb4ea90"
      },
      "execution_count": null,
      "outputs": [
        {
          "output_type": "stream",
          "name": "stdout",
          "text": [
            "Here is our population groups: [0 1 2 3 4 5 6 7]\n",
            "Here is amount of vertices per each population group respectively: [172 267 155  94 242  94  33  53]\n"
          ]
        }
      ]
    },
    {
      "cell_type": "code",
      "execution_count": null,
      "metadata": {
        "id": "0ycfxrIUUr_F",
        "colab": {
          "base_uri": "https://localhost:8080/"
        },
        "outputId": "b05ba4eb-1a23-46a6-a4ec-be8658da272e"
      },
      "outputs": [
        {
          "output_type": "execute_result",
          "data": {
            "text/plain": [
              "[Data(x=[1111, 24], edge_index=[2, 92240], y=[1111], weight=[92240], mask=[1111], num_classes=8),\n",
              " Data(x=[1111, 24], edge_index=[2, 92236], y=[1111], weight=[92236], mask=[1111], num_classes=8),\n",
              " Data(x=[1111, 24], edge_index=[2, 92244], y=[1111], weight=[92244], mask=[1111], num_classes=8),\n",
              " Data(x=[1111, 24], edge_index=[2, 92262], y=[1111], weight=[92262], mask=[1111], num_classes=8),\n",
              " Data(x=[1111, 24], edge_index=[2, 92260], y=[1111], weight=[92260], mask=[1111], num_classes=8),\n",
              " Data(x=[1111, 24], edge_index=[2, 92230], y=[1111], weight=[92230], mask=[1111], num_classes=8),\n",
              " Data(x=[1111, 24], edge_index=[2, 92236], y=[1111], weight=[92236], mask=[1111], num_classes=8),\n",
              " Data(x=[1111, 24], edge_index=[2, 92226], y=[1111], weight=[92226], mask=[1111], num_classes=8),\n",
              " Data(x=[1111, 24], edge_index=[2, 92242], y=[1111], weight=[92242], mask=[1111], num_classes=8),\n",
              " Data(x=[1111, 24], edge_index=[2, 92224], y=[1111], weight=[92224], mask=[1111], num_classes=8),\n",
              " Data(x=[1111, 24], edge_index=[2, 92310], y=[1111], weight=[92310], mask=[1111], num_classes=8),\n",
              " Data(x=[1111, 24], edge_index=[2, 92246], y=[1111], weight=[92246], mask=[1111], num_classes=8),\n",
              " Data(x=[1111, 24], edge_index=[2, 92326], y=[1111], weight=[92326], mask=[1111], num_classes=8),\n",
              " Data(x=[1111, 24], edge_index=[2, 92344], y=[1111], weight=[92344], mask=[1111], num_classes=8),\n",
              " Data(x=[1111, 24], edge_index=[2, 92330], y=[1111], weight=[92330], mask=[1111], num_classes=8),\n",
              " Data(x=[1111, 24], edge_index=[2, 92246], y=[1111], weight=[92246], mask=[1111], num_classes=8),\n",
              " Data(x=[1111, 24], edge_index=[2, 92332], y=[1111], weight=[92332], mask=[1111], num_classes=8),\n",
              " Data(x=[1111, 24], edge_index=[2, 92270], y=[1111], weight=[92270], mask=[1111], num_classes=8),\n",
              " Data(x=[1111, 24], edge_index=[2, 92320], y=[1111], weight=[92320], mask=[1111], num_classes=8),\n",
              " Data(x=[1111, 24], edge_index=[2, 92326], y=[1111], weight=[92326], mask=[1111], num_classes=8),\n",
              " Data(x=[1111, 24], edge_index=[2, 92232], y=[1111], weight=[92232], mask=[1111], num_classes=8),\n",
              " Data(x=[1111, 24], edge_index=[2, 92244], y=[1111], weight=[92244], mask=[1111], num_classes=8),\n",
              " Data(x=[1111, 24], edge_index=[2, 92372], y=[1111], weight=[92372], mask=[1111], num_classes=8),\n",
              " Data(x=[1111, 24], edge_index=[2, 92360], y=[1111], weight=[92360], mask=[1111], num_classes=8),\n",
              " Data(x=[1111, 24], edge_index=[2, 92256], y=[1111], weight=[92256], mask=[1111], num_classes=8),\n",
              " Data(x=[1111, 24], edge_index=[2, 92226], y=[1111], weight=[92226], mask=[1111], num_classes=8),\n",
              " Data(x=[1111, 24], edge_index=[2, 92322], y=[1111], weight=[92322], mask=[1111], num_classes=8),\n",
              " Data(x=[1111, 24], edge_index=[2, 92250], y=[1111], weight=[92250], mask=[1111], num_classes=8),\n",
              " Data(x=[1111, 24], edge_index=[2, 92358], y=[1111], weight=[92358], mask=[1111], num_classes=8),\n",
              " Data(x=[1111, 24], edge_index=[2, 92326], y=[1111], weight=[92326], mask=[1111], num_classes=8),\n",
              " Data(x=[1111, 24], edge_index=[2, 92366], y=[1111], weight=[92366], mask=[1111], num_classes=8),\n",
              " Data(x=[1111, 24], edge_index=[2, 92224], y=[1111], weight=[92224], mask=[1111], num_classes=8),\n",
              " Data(x=[1111, 24], edge_index=[2, 92342], y=[1111], weight=[92342], mask=[1111], num_classes=8),\n",
              " Data(x=[1111, 24], edge_index=[2, 92224], y=[1111], weight=[92224], mask=[1111], num_classes=8),\n",
              " Data(x=[1111, 24], edge_index=[2, 92232], y=[1111], weight=[92232], mask=[1111], num_classes=8),\n",
              " Data(x=[1111, 24], edge_index=[2, 92350], y=[1111], weight=[92350], mask=[1111], num_classes=8),\n",
              " Data(x=[1111, 24], edge_index=[2, 92248], y=[1111], weight=[92248], mask=[1111], num_classes=8),\n",
              " Data(x=[1111, 24], edge_index=[2, 92264], y=[1111], weight=[92264], mask=[1111], num_classes=8),\n",
              " Data(x=[1111, 24], edge_index=[2, 92200], y=[1111], weight=[92200], mask=[1111], num_classes=8),\n",
              " Data(x=[1111, 24], edge_index=[2, 92230], y=[1111], weight=[92230], mask=[1111], num_classes=8),\n",
              " Data(x=[1111, 24], edge_index=[2, 92240], y=[1111], weight=[92240], mask=[1111], num_classes=8),\n",
              " Data(x=[1111, 24], edge_index=[2, 92244], y=[1111], weight=[92244], mask=[1111], num_classes=8),\n",
              " Data(x=[1111, 24], edge_index=[2, 92310], y=[1111], weight=[92310], mask=[1111], num_classes=8),\n",
              " Data(x=[1111, 24], edge_index=[2, 92260], y=[1111], weight=[92260], mask=[1111], num_classes=8),\n",
              " Data(x=[1111, 24], edge_index=[2, 92228], y=[1111], weight=[92228], mask=[1111], num_classes=8),\n",
              " Data(x=[1111, 24], edge_index=[2, 92330], y=[1111], weight=[92330], mask=[1111], num_classes=8),\n",
              " Data(x=[1111, 24], edge_index=[2, 92252], y=[1111], weight=[92252], mask=[1111], num_classes=8),\n",
              " Data(x=[1111, 24], edge_index=[2, 92304], y=[1111], weight=[92304], mask=[1111], num_classes=8),\n",
              " Data(x=[1111, 24], edge_index=[2, 92224], y=[1111], weight=[92224], mask=[1111], num_classes=8),\n",
              " Data(x=[1111, 24], edge_index=[2, 92300], y=[1111], weight=[92300], mask=[1111], num_classes=8),\n",
              " Data(x=[1111, 24], edge_index=[2, 92294], y=[1111], weight=[92294], mask=[1111], num_classes=8),\n",
              " Data(x=[1111, 24], edge_index=[2, 92322], y=[1111], weight=[92322], mask=[1111], num_classes=8),\n",
              " Data(x=[1111, 24], edge_index=[2, 92218], y=[1111], weight=[92218], mask=[1111], num_classes=8),\n",
              " Data(x=[1111, 24], edge_index=[2, 92256], y=[1111], weight=[92256], mask=[1111], num_classes=8),\n",
              " Data(x=[1111, 24], edge_index=[2, 92216], y=[1111], weight=[92216], mask=[1111], num_classes=8),\n",
              " Data(x=[1111, 24], edge_index=[2, 92358], y=[1111], weight=[92358], mask=[1111], num_classes=8),\n",
              " Data(x=[1111, 24], edge_index=[2, 92344], y=[1111], weight=[92344], mask=[1111], num_classes=8),\n",
              " Data(x=[1111, 24], edge_index=[2, 92370], y=[1111], weight=[92370], mask=[1111], num_classes=8),\n",
              " Data(x=[1111, 24], edge_index=[2, 92310], y=[1111], weight=[92310], mask=[1111], num_classes=8),\n",
              " Data(x=[1111, 24], edge_index=[2, 92360], y=[1111], weight=[92360], mask=[1111], num_classes=8),\n",
              " Data(x=[1111, 24], edge_index=[2, 92230], y=[1111], weight=[92230], mask=[1111], num_classes=8),\n",
              " Data(x=[1111, 24], edge_index=[2, 92284], y=[1111], weight=[92284], mask=[1111], num_classes=8),\n",
              " Data(x=[1111, 24], edge_index=[2, 92244], y=[1111], weight=[92244], mask=[1111], num_classes=8),\n",
              " Data(x=[1111, 24], edge_index=[2, 92234], y=[1111], weight=[92234], mask=[1111], num_classes=8),\n",
              " Data(x=[1111, 24], edge_index=[2, 92380], y=[1111], weight=[92380], mask=[1111], num_classes=8),\n",
              " Data(x=[1111, 24], edge_index=[2, 92338], y=[1111], weight=[92338], mask=[1111], num_classes=8),\n",
              " Data(x=[1111, 24], edge_index=[2, 92360], y=[1111], weight=[92360], mask=[1111], num_classes=8),\n",
              " Data(x=[1111, 24], edge_index=[2, 92228], y=[1111], weight=[92228], mask=[1111], num_classes=8),\n",
              " Data(x=[1111, 24], edge_index=[2, 92240], y=[1111], weight=[92240], mask=[1111], num_classes=8),\n",
              " Data(x=[1111, 24], edge_index=[2, 92192], y=[1111], weight=[92192], mask=[1111], num_classes=8),\n",
              " Data(x=[1111, 24], edge_index=[2, 92220], y=[1111], weight=[92220], mask=[1111], num_classes=8),\n",
              " Data(x=[1111, 24], edge_index=[2, 92216], y=[1111], weight=[92216], mask=[1111], num_classes=8),\n",
              " Data(x=[1111, 24], edge_index=[2, 92346], y=[1111], weight=[92346], mask=[1111], num_classes=8),\n",
              " Data(x=[1111, 24], edge_index=[2, 92212], y=[1111], weight=[92212], mask=[1111], num_classes=8),\n",
              " Data(x=[1111, 24], edge_index=[2, 92374], y=[1111], weight=[92374], mask=[1111], num_classes=8),\n",
              " Data(x=[1111, 24], edge_index=[2, 92246], y=[1111], weight=[92246], mask=[1111], num_classes=8),\n",
              " Data(x=[1111, 24], edge_index=[2, 92314], y=[1111], weight=[92314], mask=[1111], num_classes=8),\n",
              " Data(x=[1111, 24], edge_index=[2, 92274], y=[1111], weight=[92274], mask=[1111], num_classes=8),\n",
              " Data(x=[1111, 24], edge_index=[2, 92374], y=[1111], weight=[92374], mask=[1111], num_classes=8),\n",
              " Data(x=[1111, 24], edge_index=[2, 92208], y=[1111], weight=[92208], mask=[1111], num_classes=8),\n",
              " Data(x=[1111, 24], edge_index=[2, 92414], y=[1111], weight=[92414], mask=[1111], num_classes=8),\n",
              " Data(x=[1111, 24], edge_index=[2, 92236], y=[1111], weight=[92236], mask=[1111], num_classes=8),\n",
              " Data(x=[1111, 24], edge_index=[2, 92224], y=[1111], weight=[92224], mask=[1111], num_classes=8),\n",
              " Data(x=[1111, 24], edge_index=[2, 92242], y=[1111], weight=[92242], mask=[1111], num_classes=8),\n",
              " Data(x=[1111, 24], edge_index=[2, 92248], y=[1111], weight=[92248], mask=[1111], num_classes=8),\n",
              " Data(x=[1111, 24], edge_index=[2, 92224], y=[1111], weight=[92224], mask=[1111], num_classes=8),\n",
              " Data(x=[1111, 24], edge_index=[2, 92236], y=[1111], weight=[92236], mask=[1111], num_classes=8),\n",
              " Data(x=[1111, 24], edge_index=[2, 92358], y=[1111], weight=[92358], mask=[1111], num_classes=8),\n",
              " Data(x=[1111, 24], edge_index=[2, 92264], y=[1111], weight=[92264], mask=[1111], num_classes=8),\n",
              " Data(x=[1111, 24], edge_index=[2, 92308], y=[1111], weight=[92308], mask=[1111], num_classes=8),\n",
              " Data(x=[1111, 24], edge_index=[2, 92348], y=[1111], weight=[92348], mask=[1111], num_classes=8),\n",
              " Data(x=[1111, 24], edge_index=[2, 92324], y=[1111], weight=[92324], mask=[1111], num_classes=8),\n",
              " Data(x=[1111, 24], edge_index=[2, 92214], y=[1111], weight=[92214], mask=[1111], num_classes=8),\n",
              " Data(x=[1111, 24], edge_index=[2, 92216], y=[1111], weight=[92216], mask=[1111], num_classes=8),\n",
              " Data(x=[1111, 24], edge_index=[2, 92362], y=[1111], weight=[92362], mask=[1111], num_classes=8),\n",
              " Data(x=[1111, 24], edge_index=[2, 92248], y=[1111], weight=[92248], mask=[1111], num_classes=8),\n",
              " Data(x=[1111, 24], edge_index=[2, 92338], y=[1111], weight=[92338], mask=[1111], num_classes=8),\n",
              " Data(x=[1111, 24], edge_index=[2, 92394], y=[1111], weight=[92394], mask=[1111], num_classes=8),\n",
              " Data(x=[1111, 24], edge_index=[2, 92414], y=[1111], weight=[92414], mask=[1111], num_classes=8),\n",
              " Data(x=[1111, 24], edge_index=[2, 92272], y=[1111], weight=[92272], mask=[1111], num_classes=8),\n",
              " Data(x=[1111, 24], edge_index=[2, 92354], y=[1111], weight=[92354], mask=[1111], num_classes=8),\n",
              " Data(x=[1111, 24], edge_index=[2, 92226], y=[1111], weight=[92226], mask=[1111], num_classes=8),\n",
              " Data(x=[1111, 24], edge_index=[2, 92326], y=[1111], weight=[92326], mask=[1111], num_classes=8),\n",
              " Data(x=[1111, 24], edge_index=[2, 92304], y=[1111], weight=[92304], mask=[1111], num_classes=8),\n",
              " Data(x=[1111, 24], edge_index=[2, 92260], y=[1111], weight=[92260], mask=[1111], num_classes=8),\n",
              " Data(x=[1111, 24], edge_index=[2, 92238], y=[1111], weight=[92238], mask=[1111], num_classes=8),\n",
              " Data(x=[1111, 24], edge_index=[2, 92304], y=[1111], weight=[92304], mask=[1111], num_classes=8),\n",
              " Data(x=[1111, 24], edge_index=[2, 92206], y=[1111], weight=[92206], mask=[1111], num_classes=8),\n",
              " Data(x=[1111, 24], edge_index=[2, 92318], y=[1111], weight=[92318], mask=[1111], num_classes=8),\n",
              " Data(x=[1111, 24], edge_index=[2, 92232], y=[1111], weight=[92232], mask=[1111], num_classes=8),\n",
              " Data(x=[1111, 24], edge_index=[2, 92396], y=[1111], weight=[92396], mask=[1111], num_classes=8),\n",
              " Data(x=[1111, 24], edge_index=[2, 92354], y=[1111], weight=[92354], mask=[1111], num_classes=8),\n",
              " Data(x=[1111, 24], edge_index=[2, 92214], y=[1111], weight=[92214], mask=[1111], num_classes=8),\n",
              " Data(x=[1111, 24], edge_index=[2, 92226], y=[1111], weight=[92226], mask=[1111], num_classes=8),\n",
              " Data(x=[1111, 24], edge_index=[2, 92242], y=[1111], weight=[92242], mask=[1111], num_classes=8),\n",
              " Data(x=[1111, 24], edge_index=[2, 92248], y=[1111], weight=[92248], mask=[1111], num_classes=8),\n",
              " Data(x=[1111, 24], edge_index=[2, 92348], y=[1111], weight=[92348], mask=[1111], num_classes=8),\n",
              " Data(x=[1111, 24], edge_index=[2, 92344], y=[1111], weight=[92344], mask=[1111], num_classes=8),\n",
              " Data(x=[1111, 24], edge_index=[2, 92358], y=[1111], weight=[92358], mask=[1111], num_classes=8),\n",
              " Data(x=[1111, 24], edge_index=[2, 92280], y=[1111], weight=[92280], mask=[1111], num_classes=8),\n",
              " Data(x=[1111, 24], edge_index=[2, 92234], y=[1111], weight=[92234], mask=[1111], num_classes=8),\n",
              " Data(x=[1111, 24], edge_index=[2, 92234], y=[1111], weight=[92234], mask=[1111], num_classes=8),\n",
              " Data(x=[1111, 24], edge_index=[2, 92308], y=[1111], weight=[92308], mask=[1111], num_classes=8),\n",
              " Data(x=[1111, 24], edge_index=[2, 92290], y=[1111], weight=[92290], mask=[1111], num_classes=8),\n",
              " Data(x=[1111, 24], edge_index=[2, 92364], y=[1111], weight=[92364], mask=[1111], num_classes=8),\n",
              " Data(x=[1111, 24], edge_index=[2, 92362], y=[1111], weight=[92362], mask=[1111], num_classes=8),\n",
              " Data(x=[1111, 24], edge_index=[2, 92220], y=[1111], weight=[92220], mask=[1111], num_classes=8),\n",
              " Data(x=[1111, 24], edge_index=[2, 92260], y=[1111], weight=[92260], mask=[1111], num_classes=8),\n",
              " Data(x=[1111, 24], edge_index=[2, 92352], y=[1111], weight=[92352], mask=[1111], num_classes=8),\n",
              " Data(x=[1111, 24], edge_index=[2, 92336], y=[1111], weight=[92336], mask=[1111], num_classes=8),\n",
              " Data(x=[1111, 24], edge_index=[2, 92248], y=[1111], weight=[92248], mask=[1111], num_classes=8),\n",
              " Data(x=[1111, 24], edge_index=[2, 92262], y=[1111], weight=[92262], mask=[1111], num_classes=8),\n",
              " Data(x=[1111, 24], edge_index=[2, 92304], y=[1111], weight=[92304], mask=[1111], num_classes=8),\n",
              " Data(x=[1111, 24], edge_index=[2, 92360], y=[1111], weight=[92360], mask=[1111], num_classes=8),\n",
              " Data(x=[1111, 24], edge_index=[2, 92312], y=[1111], weight=[92312], mask=[1111], num_classes=8),\n",
              " Data(x=[1111, 24], edge_index=[2, 92220], y=[1111], weight=[92220], mask=[1111], num_classes=8),\n",
              " Data(x=[1111, 24], edge_index=[2, 92224], y=[1111], weight=[92224], mask=[1111], num_classes=8),\n",
              " Data(x=[1111, 24], edge_index=[2, 92262], y=[1111], weight=[92262], mask=[1111], num_classes=8),\n",
              " Data(x=[1111, 24], edge_index=[2, 92326], y=[1111], weight=[92326], mask=[1111], num_classes=8),\n",
              " Data(x=[1111, 24], edge_index=[2, 92388], y=[1111], weight=[92388], mask=[1111], num_classes=8),\n",
              " Data(x=[1111, 24], edge_index=[2, 92240], y=[1111], weight=[92240], mask=[1111], num_classes=8),\n",
              " Data(x=[1111, 24], edge_index=[2, 92260], y=[1111], weight=[92260], mask=[1111], num_classes=8),\n",
              " Data(x=[1111, 24], edge_index=[2, 92360], y=[1111], weight=[92360], mask=[1111], num_classes=8),\n",
              " Data(x=[1111, 24], edge_index=[2, 92338], y=[1111], weight=[92338], mask=[1111], num_classes=8),\n",
              " Data(x=[1111, 24], edge_index=[2, 92220], y=[1111], weight=[92220], mask=[1111], num_classes=8),\n",
              " Data(x=[1111, 24], edge_index=[2, 92254], y=[1111], weight=[92254], mask=[1111], num_classes=8),\n",
              " Data(x=[1111, 24], edge_index=[2, 92296], y=[1111], weight=[92296], mask=[1111], num_classes=8),\n",
              " Data(x=[1111, 24], edge_index=[2, 92242], y=[1111], weight=[92242], mask=[1111], num_classes=8),\n",
              " Data(x=[1111, 24], edge_index=[2, 92314], y=[1111], weight=[92314], mask=[1111], num_classes=8),\n",
              " Data(x=[1111, 24], edge_index=[2, 92226], y=[1111], weight=[92226], mask=[1111], num_classes=8),\n",
              " Data(x=[1111, 24], edge_index=[2, 92326], y=[1111], weight=[92326], mask=[1111], num_classes=8),\n",
              " Data(x=[1111, 24], edge_index=[2, 92364], y=[1111], weight=[92364], mask=[1111], num_classes=8),\n",
              " Data(x=[1111, 24], edge_index=[2, 92326], y=[1111], weight=[92326], mask=[1111], num_classes=8),\n",
              " Data(x=[1111, 24], edge_index=[2, 92250], y=[1111], weight=[92250], mask=[1111], num_classes=8),\n",
              " Data(x=[1111, 24], edge_index=[2, 92250], y=[1111], weight=[92250], mask=[1111], num_classes=8),\n",
              " Data(x=[1111, 24], edge_index=[2, 92352], y=[1111], weight=[92352], mask=[1111], num_classes=8),\n",
              " Data(x=[1111, 24], edge_index=[2, 92312], y=[1111], weight=[92312], mask=[1111], num_classes=8),\n",
              " Data(x=[1111, 24], edge_index=[2, 92364], y=[1111], weight=[92364], mask=[1111], num_classes=8),\n",
              " Data(x=[1111, 24], edge_index=[2, 92238], y=[1111], weight=[92238], mask=[1111], num_classes=8),\n",
              " Data(x=[1111, 24], edge_index=[2, 92372], y=[1111], weight=[92372], mask=[1111], num_classes=8),\n",
              " Data(x=[1111, 24], edge_index=[2, 92338], y=[1111], weight=[92338], mask=[1111], num_classes=8),\n",
              " Data(x=[1111, 24], edge_index=[2, 92232], y=[1111], weight=[92232], mask=[1111], num_classes=8),\n",
              " Data(x=[1111, 24], edge_index=[2, 92248], y=[1111], weight=[92248], mask=[1111], num_classes=8),\n",
              " Data(x=[1111, 24], edge_index=[2, 92346], y=[1111], weight=[92346], mask=[1111], num_classes=8),\n",
              " Data(x=[1111, 24], edge_index=[2, 92230], y=[1111], weight=[92230], mask=[1111], num_classes=8),\n",
              " Data(x=[1111, 24], edge_index=[2, 92234], y=[1111], weight=[92234], mask=[1111], num_classes=8),\n",
              " Data(x=[1111, 24], edge_index=[2, 92370], y=[1111], weight=[92370], mask=[1111], num_classes=8),\n",
              " Data(x=[1111, 24], edge_index=[2, 92268], y=[1111], weight=[92268], mask=[1111], num_classes=8),\n",
              " Data(x=[1111, 24], edge_index=[2, 92262], y=[1111], weight=[92262], mask=[1111], num_classes=8),\n",
              " Data(x=[1111, 24], edge_index=[2, 92394], y=[1111], weight=[92394], mask=[1111], num_classes=8),\n",
              " Data(x=[1111, 24], edge_index=[2, 92356], y=[1111], weight=[92356], mask=[1111], num_classes=8),\n",
              " Data(x=[1111, 24], edge_index=[2, 92216], y=[1111], weight=[92216], mask=[1111], num_classes=8),\n",
              " Data(x=[1111, 24], edge_index=[2, 92258], y=[1111], weight=[92258], mask=[1111], num_classes=8),\n",
              " Data(x=[1111, 24], edge_index=[2, 92362], y=[1111], weight=[92362], mask=[1111], num_classes=8),\n",
              " Data(x=[1111, 24], edge_index=[2, 92238], y=[1111], weight=[92238], mask=[1111], num_classes=8),\n",
              " Data(x=[1111, 24], edge_index=[2, 92222], y=[1111], weight=[92222], mask=[1111], num_classes=8),\n",
              " Data(x=[1111, 24], edge_index=[2, 92370], y=[1111], weight=[92370], mask=[1111], num_classes=8),\n",
              " Data(x=[1111, 24], edge_index=[2, 92248], y=[1111], weight=[92248], mask=[1111], num_classes=8),\n",
              " Data(x=[1111, 24], edge_index=[2, 92242], y=[1111], weight=[92242], mask=[1111], num_classes=8),\n",
              " Data(x=[1111, 24], edge_index=[2, 92396], y=[1111], weight=[92396], mask=[1111], num_classes=8),\n",
              " Data(x=[1111, 24], edge_index=[2, 92228], y=[1111], weight=[92228], mask=[1111], num_classes=8),\n",
              " Data(x=[1111, 24], edge_index=[2, 92318], y=[1111], weight=[92318], mask=[1111], num_classes=8),\n",
              " Data(x=[1111, 24], edge_index=[2, 92260], y=[1111], weight=[92260], mask=[1111], num_classes=8),\n",
              " Data(x=[1111, 24], edge_index=[2, 92232], y=[1111], weight=[92232], mask=[1111], num_classes=8),\n",
              " Data(x=[1111, 24], edge_index=[2, 92240], y=[1111], weight=[92240], mask=[1111], num_classes=8),\n",
              " Data(x=[1111, 24], edge_index=[2, 92230], y=[1111], weight=[92230], mask=[1111], num_classes=8),\n",
              " Data(x=[1111, 24], edge_index=[2, 92364], y=[1111], weight=[92364], mask=[1111], num_classes=8),\n",
              " Data(x=[1111, 24], edge_index=[2, 92358], y=[1111], weight=[92358], mask=[1111], num_classes=8),\n",
              " Data(x=[1111, 24], edge_index=[2, 92392], y=[1111], weight=[92392], mask=[1111], num_classes=8),\n",
              " Data(x=[1111, 24], edge_index=[2, 92232], y=[1111], weight=[92232], mask=[1111], num_classes=8),\n",
              " Data(x=[1111, 24], edge_index=[2, 92340], y=[1111], weight=[92340], mask=[1111], num_classes=8),\n",
              " Data(x=[1111, 24], edge_index=[2, 92266], y=[1111], weight=[92266], mask=[1111], num_classes=8),\n",
              " Data(x=[1111, 24], edge_index=[2, 92230], y=[1111], weight=[92230], mask=[1111], num_classes=8),\n",
              " Data(x=[1111, 24], edge_index=[2, 92402], y=[1111], weight=[92402], mask=[1111], num_classes=8),\n",
              " Data(x=[1111, 24], edge_index=[2, 92264], y=[1111], weight=[92264], mask=[1111], num_classes=8),\n",
              " Data(x=[1111, 24], edge_index=[2, 92406], y=[1111], weight=[92406], mask=[1111], num_classes=8),\n",
              " Data(x=[1111, 24], edge_index=[2, 92346], y=[1111], weight=[92346], mask=[1111], num_classes=8),\n",
              " Data(x=[1111, 24], edge_index=[2, 92280], y=[1111], weight=[92280], mask=[1111], num_classes=8),\n",
              " Data(x=[1111, 24], edge_index=[2, 92324], y=[1111], weight=[92324], mask=[1111], num_classes=8),\n",
              " Data(x=[1111, 24], edge_index=[2, 92234], y=[1111], weight=[92234], mask=[1111], num_classes=8),\n",
              " Data(x=[1111, 24], edge_index=[2, 92214], y=[1111], weight=[92214], mask=[1111], num_classes=8),\n",
              " Data(x=[1111, 24], edge_index=[2, 92234], y=[1111], weight=[92234], mask=[1111], num_classes=8),\n",
              " Data(x=[1111, 24], edge_index=[2, 92216], y=[1111], weight=[92216], mask=[1111], num_classes=8),\n",
              " Data(x=[1111, 24], edge_index=[2, 92260], y=[1111], weight=[92260], mask=[1111], num_classes=8),\n",
              " Data(x=[1111, 24], edge_index=[2, 92340], y=[1111], weight=[92340], mask=[1111], num_classes=8),\n",
              " Data(x=[1111, 24], edge_index=[2, 92242], y=[1111], weight=[92242], mask=[1111], num_classes=8),\n",
              " Data(x=[1111, 24], edge_index=[2, 92212], y=[1111], weight=[92212], mask=[1111], num_classes=8),\n",
              " Data(x=[1111, 24], edge_index=[2, 92234], y=[1111], weight=[92234], mask=[1111], num_classes=8),\n",
              " Data(x=[1111, 24], edge_index=[2, 92322], y=[1111], weight=[92322], mask=[1111], num_classes=8),\n",
              " Data(x=[1111, 24], edge_index=[2, 92266], y=[1111], weight=[92266], mask=[1111], num_classes=8),\n",
              " Data(x=[1111, 24], edge_index=[2, 92244], y=[1111], weight=[92244], mask=[1111], num_classes=8),\n",
              " Data(x=[1111, 24], edge_index=[2, 92248], y=[1111], weight=[92248], mask=[1111], num_classes=8),\n",
              " Data(x=[1111, 24], edge_index=[2, 92386], y=[1111], weight=[92386], mask=[1111], num_classes=8),\n",
              " Data(x=[1111, 24], edge_index=[2, 92338], y=[1111], weight=[92338], mask=[1111], num_classes=8),\n",
              " Data(x=[1111, 24], edge_index=[2, 92226], y=[1111], weight=[92226], mask=[1111], num_classes=8),\n",
              " Data(x=[1111, 24], edge_index=[2, 92230], y=[1111], weight=[92230], mask=[1111], num_classes=8),\n",
              " Data(x=[1111, 24], edge_index=[2, 92388], y=[1111], weight=[92388], mask=[1111], num_classes=8),\n",
              " Data(x=[1111, 24], edge_index=[2, 92226], y=[1111], weight=[92226], mask=[1111], num_classes=8),\n",
              " Data(x=[1111, 24], edge_index=[2, 92346], y=[1111], weight=[92346], mask=[1111], num_classes=8),\n",
              " Data(x=[1111, 24], edge_index=[2, 92386], y=[1111], weight=[92386], mask=[1111], num_classes=8),\n",
              " Data(x=[1111, 24], edge_index=[2, 92384], y=[1111], weight=[92384], mask=[1111], num_classes=8),\n",
              " Data(x=[1111, 24], edge_index=[2, 92366], y=[1111], weight=[92366], mask=[1111], num_classes=8),\n",
              " Data(x=[1111, 24], edge_index=[2, 92218], y=[1111], weight=[92218], mask=[1111], num_classes=8),\n",
              " Data(x=[1111, 24], edge_index=[2, 92218], y=[1111], weight=[92218], mask=[1111], num_classes=8),\n",
              " Data(x=[1111, 24], edge_index=[2, 92230], y=[1111], weight=[92230], mask=[1111], num_classes=8),\n",
              " Data(x=[1111, 24], edge_index=[2, 92354], y=[1111], weight=[92354], mask=[1111], num_classes=8),\n",
              " Data(x=[1111, 24], edge_index=[2, 92374], y=[1111], weight=[92374], mask=[1111], num_classes=8),\n",
              " Data(x=[1111, 24], edge_index=[2, 92356], y=[1111], weight=[92356], mask=[1111], num_classes=8),\n",
              " Data(x=[1111, 24], edge_index=[2, 92386], y=[1111], weight=[92386], mask=[1111], num_classes=8),\n",
              " Data(x=[1111, 24], edge_index=[2, 92240], y=[1111], weight=[92240], mask=[1111], num_classes=8),\n",
              " Data(x=[1111, 24], edge_index=[2, 92212], y=[1111], weight=[92212], mask=[1111], num_classes=8),\n",
              " Data(x=[1111, 24], edge_index=[2, 92346], y=[1111], weight=[92346], mask=[1111], num_classes=8),\n",
              " Data(x=[1111, 24], edge_index=[2, 92272], y=[1111], weight=[92272], mask=[1111], num_classes=8),\n",
              " Data(x=[1111, 24], edge_index=[2, 92244], y=[1111], weight=[92244], mask=[1111], num_classes=8),\n",
              " Data(x=[1111, 24], edge_index=[2, 92238], y=[1111], weight=[92238], mask=[1111], num_classes=8),\n",
              " Data(x=[1111, 24], edge_index=[2, 92208], y=[1111], weight=[92208], mask=[1111], num_classes=8),\n",
              " Data(x=[1111, 24], edge_index=[2, 92234], y=[1111], weight=[92234], mask=[1111], num_classes=8),\n",
              " Data(x=[1111, 24], edge_index=[2, 92250], y=[1111], weight=[92250], mask=[1111], num_classes=8),\n",
              " Data(x=[1111, 24], edge_index=[2, 92250], y=[1111], weight=[92250], mask=[1111], num_classes=8),\n",
              " Data(x=[1111, 24], edge_index=[2, 92242], y=[1111], weight=[92242], mask=[1111], num_classes=8),\n",
              " Data(x=[1111, 24], edge_index=[2, 92270], y=[1111], weight=[92270], mask=[1111], num_classes=8),\n",
              " Data(x=[1111, 24], edge_index=[2, 92368], y=[1111], weight=[92368], mask=[1111], num_classes=8),\n",
              " Data(x=[1111, 24], edge_index=[2, 92366], y=[1111], weight=[92366], mask=[1111], num_classes=8),\n",
              " Data(x=[1111, 24], edge_index=[2, 92260], y=[1111], weight=[92260], mask=[1111], num_classes=8),\n",
              " Data(x=[1111, 24], edge_index=[2, 92254], y=[1111], weight=[92254], mask=[1111], num_classes=8),\n",
              " Data(x=[1111, 24], edge_index=[2, 92204], y=[1111], weight=[92204], mask=[1111], num_classes=8),\n",
              " Data(x=[1111, 24], edge_index=[2, 92300], y=[1111], weight=[92300], mask=[1111], num_classes=8),\n",
              " Data(x=[1111, 24], edge_index=[2, 92204], y=[1111], weight=[92204], mask=[1111], num_classes=8),\n",
              " Data(x=[1111, 24], edge_index=[2, 92320], y=[1111], weight=[92320], mask=[1111], num_classes=8),\n",
              " Data(x=[1111, 24], edge_index=[2, 92364], y=[1111], weight=[92364], mask=[1111], num_classes=8),\n",
              " Data(x=[1111, 24], edge_index=[2, 92352], y=[1111], weight=[92352], mask=[1111], num_classes=8),\n",
              " Data(x=[1111, 24], edge_index=[2, 92386], y=[1111], weight=[92386], mask=[1111], num_classes=8),\n",
              " Data(x=[1111, 24], edge_index=[2, 92340], y=[1111], weight=[92340], mask=[1111], num_classes=8),\n",
              " Data(x=[1111, 24], edge_index=[2, 92330], y=[1111], weight=[92330], mask=[1111], num_classes=8),\n",
              " Data(x=[1111, 24], edge_index=[2, 92250], y=[1111], weight=[92250], mask=[1111], num_classes=8),\n",
              " Data(x=[1111, 24], edge_index=[2, 92246], y=[1111], weight=[92246], mask=[1111], num_classes=8),\n",
              " Data(x=[1111, 24], edge_index=[2, 92278], y=[1111], weight=[92278], mask=[1111], num_classes=8),\n",
              " Data(x=[1111, 24], edge_index=[2, 92234], y=[1111], weight=[92234], mask=[1111], num_classes=8),\n",
              " Data(x=[1111, 24], edge_index=[2, 92312], y=[1111], weight=[92312], mask=[1111], num_classes=8),\n",
              " Data(x=[1111, 24], edge_index=[2, 92248], y=[1111], weight=[92248], mask=[1111], num_classes=8),\n",
              " Data(x=[1111, 24], edge_index=[2, 92372], y=[1111], weight=[92372], mask=[1111], num_classes=8),\n",
              " Data(x=[1111, 24], edge_index=[2, 92388], y=[1111], weight=[92388], mask=[1111], num_classes=8),\n",
              " Data(x=[1111, 24], edge_index=[2, 92364], y=[1111], weight=[92364], mask=[1111], num_classes=8),\n",
              " Data(x=[1111, 24], edge_index=[2, 92338], y=[1111], weight=[92338], mask=[1111], num_classes=8),\n",
              " Data(x=[1111, 24], edge_index=[2, 92268], y=[1111], weight=[92268], mask=[1111], num_classes=8),\n",
              " Data(x=[1111, 24], edge_index=[2, 92328], y=[1111], weight=[92328], mask=[1111], num_classes=8),\n",
              " Data(x=[1111, 24], edge_index=[2, 92372], y=[1111], weight=[92372], mask=[1111], num_classes=8),\n",
              " Data(x=[1111, 24], edge_index=[2, 92346], y=[1111], weight=[92346], mask=[1111], num_classes=8),\n",
              " Data(x=[1111, 24], edge_index=[2, 92346], y=[1111], weight=[92346], mask=[1111], num_classes=8),\n",
              " Data(x=[1111, 24], edge_index=[2, 92236], y=[1111], weight=[92236], mask=[1111], num_classes=8),\n",
              " Data(x=[1111, 24], edge_index=[2, 92344], y=[1111], weight=[92344], mask=[1111], num_classes=8),\n",
              " Data(x=[1111, 24], edge_index=[2, 92364], y=[1111], weight=[92364], mask=[1111], num_classes=8),\n",
              " Data(x=[1111, 24], edge_index=[2, 92374], y=[1111], weight=[92374], mask=[1111], num_classes=8),\n",
              " Data(x=[1111, 24], edge_index=[2, 92282], y=[1111], weight=[92282], mask=[1111], num_classes=8),\n",
              " Data(x=[1111, 24], edge_index=[2, 92334], y=[1111], weight=[92334], mask=[1111], num_classes=8),\n",
              " Data(x=[1111, 24], edge_index=[2, 92242], y=[1111], weight=[92242], mask=[1111], num_classes=8),\n",
              " Data(x=[1111, 24], edge_index=[2, 92264], y=[1111], weight=[92264], mask=[1111], num_classes=8),\n",
              " Data(x=[1111, 24], edge_index=[2, 92232], y=[1111], weight=[92232], mask=[1111], num_classes=8),\n",
              " Data(x=[1111, 24], edge_index=[2, 92418], y=[1111], weight=[92418], mask=[1111], num_classes=8),\n",
              " Data(x=[1111, 24], edge_index=[2, 92382], y=[1111], weight=[92382], mask=[1111], num_classes=8),\n",
              " Data(x=[1111, 24], edge_index=[2, 92388], y=[1111], weight=[92388], mask=[1111], num_classes=8),\n",
              " Data(x=[1111, 24], edge_index=[2, 92316], y=[1111], weight=[92316], mask=[1111], num_classes=8),\n",
              " Data(x=[1111, 24], edge_index=[2, 92224], y=[1111], weight=[92224], mask=[1111], num_classes=8),\n",
              " Data(x=[1111, 24], edge_index=[2, 92230], y=[1111], weight=[92230], mask=[1111], num_classes=8),\n",
              " Data(x=[1111, 24], edge_index=[2, 92314], y=[1111], weight=[92314], mask=[1111], num_classes=8),\n",
              " Data(x=[1111, 24], edge_index=[2, 92254], y=[1111], weight=[92254], mask=[1111], num_classes=8),\n",
              " Data(x=[1111, 24], edge_index=[2, 92324], y=[1111], weight=[92324], mask=[1111], num_classes=8),\n",
              " Data(x=[1111, 24], edge_index=[2, 92196], y=[1111], weight=[92196], mask=[1111], num_classes=8),\n",
              " Data(x=[1111, 24], edge_index=[2, 92234], y=[1111], weight=[92234], mask=[1111], num_classes=8),\n",
              " Data(x=[1111, 24], edge_index=[2, 92242], y=[1111], weight=[92242], mask=[1111], num_classes=8),\n",
              " Data(x=[1111, 24], edge_index=[2, 92352], y=[1111], weight=[92352], mask=[1111], num_classes=8),\n",
              " Data(x=[1111, 24], edge_index=[2, 92222], y=[1111], weight=[92222], mask=[1111], num_classes=8),\n",
              " Data(x=[1111, 24], edge_index=[2, 92270], y=[1111], weight=[92270], mask=[1111], num_classes=8),\n",
              " Data(x=[1111, 24], edge_index=[2, 92352], y=[1111], weight=[92352], mask=[1111], num_classes=8),\n",
              " Data(x=[1111, 24], edge_index=[2, 92208], y=[1111], weight=[92208], mask=[1111], num_classes=8),\n",
              " Data(x=[1111, 24], edge_index=[2, 92368], y=[1111], weight=[92368], mask=[1111], num_classes=8),\n",
              " Data(x=[1111, 24], edge_index=[2, 92244], y=[1111], weight=[92244], mask=[1111], num_classes=8),\n",
              " Data(x=[1111, 24], edge_index=[2, 92254], y=[1111], weight=[92254], mask=[1111], num_classes=8),\n",
              " Data(x=[1111, 24], edge_index=[2, 92348], y=[1111], weight=[92348], mask=[1111], num_classes=8),\n",
              " Data(x=[1111, 24], edge_index=[2, 92246], y=[1111], weight=[92246], mask=[1111], num_classes=8),\n",
              " Data(x=[1111, 24], edge_index=[2, 92278], y=[1111], weight=[92278], mask=[1111], num_classes=8),\n",
              " Data(x=[1111, 24], edge_index=[2, 92250], y=[1111], weight=[92250], mask=[1111], num_classes=8),\n",
              " Data(x=[1111, 24], edge_index=[2, 92248], y=[1111], weight=[92248], mask=[1111], num_classes=8),\n",
              " Data(x=[1111, 24], edge_index=[2, 92368], y=[1111], weight=[92368], mask=[1111], num_classes=8),\n",
              " Data(x=[1111, 24], edge_index=[2, 92234], y=[1111], weight=[92234], mask=[1111], num_classes=8),\n",
              " Data(x=[1111, 24], edge_index=[2, 92334], y=[1111], weight=[92334], mask=[1111], num_classes=8),\n",
              " Data(x=[1111, 24], edge_index=[2, 92374], y=[1111], weight=[92374], mask=[1111], num_classes=8),\n",
              " Data(x=[1111, 24], edge_index=[2, 92360], y=[1111], weight=[92360], mask=[1111], num_classes=8),\n",
              " Data(x=[1111, 24], edge_index=[2, 92290], y=[1111], weight=[92290], mask=[1111], num_classes=8),\n",
              " Data(x=[1111, 24], edge_index=[2, 92222], y=[1111], weight=[92222], mask=[1111], num_classes=8),\n",
              " Data(x=[1111, 24], edge_index=[2, 92334], y=[1111], weight=[92334], mask=[1111], num_classes=8),\n",
              " Data(x=[1111, 24], edge_index=[2, 92244], y=[1111], weight=[92244], mask=[1111], num_classes=8),\n",
              " Data(x=[1111, 24], edge_index=[2, 92318], y=[1111], weight=[92318], mask=[1111], num_classes=8),\n",
              " Data(x=[1111, 24], edge_index=[2, 92386], y=[1111], weight=[92386], mask=[1111], num_classes=8),\n",
              " Data(x=[1111, 24], edge_index=[2, 92210], y=[1111], weight=[92210], mask=[1111], num_classes=8),\n",
              " Data(x=[1111, 24], edge_index=[2, 92360], y=[1111], weight=[92360], mask=[1111], num_classes=8),\n",
              " Data(x=[1111, 24], edge_index=[2, 92214], y=[1111], weight=[92214], mask=[1111], num_classes=8),\n",
              " Data(x=[1111, 24], edge_index=[2, 92378], y=[1111], weight=[92378], mask=[1111], num_classes=8),\n",
              " Data(x=[1111, 24], edge_index=[2, 92350], y=[1111], weight=[92350], mask=[1111], num_classes=8),\n",
              " Data(x=[1111, 24], edge_index=[2, 92312], y=[1111], weight=[92312], mask=[1111], num_classes=8),\n",
              " Data(x=[1111, 24], edge_index=[2, 92244], y=[1111], weight=[92244], mask=[1111], num_classes=8),\n",
              " Data(x=[1111, 24], edge_index=[2, 92328], y=[1111], weight=[92328], mask=[1111], num_classes=8),\n",
              " Data(x=[1111, 24], edge_index=[2, 92352], y=[1111], weight=[92352], mask=[1111], num_classes=8),\n",
              " Data(x=[1111, 24], edge_index=[2, 92344], y=[1111], weight=[92344], mask=[1111], num_classes=8),\n",
              " Data(x=[1111, 24], edge_index=[2, 92218], y=[1111], weight=[92218], mask=[1111], num_classes=8),\n",
              " Data(x=[1111, 24], edge_index=[2, 92238], y=[1111], weight=[92238], mask=[1111], num_classes=8),\n",
              " Data(x=[1111, 24], edge_index=[2, 92232], y=[1111], weight=[92232], mask=[1111], num_classes=8),\n",
              " Data(x=[1111, 24], edge_index=[2, 92234], y=[1111], weight=[92234], mask=[1111], num_classes=8),\n",
              " Data(x=[1111, 24], edge_index=[2, 92372], y=[1111], weight=[92372], mask=[1111], num_classes=8),\n",
              " Data(x=[1111, 24], edge_index=[2, 92360], y=[1111], weight=[92360], mask=[1111], num_classes=8),\n",
              " Data(x=[1111, 24], edge_index=[2, 92254], y=[1111], weight=[92254], mask=[1111], num_classes=8),\n",
              " Data(x=[1111, 24], edge_index=[2, 92260], y=[1111], weight=[92260], mask=[1111], num_classes=8),\n",
              " Data(x=[1111, 24], edge_index=[2, 92342], y=[1111], weight=[92342], mask=[1111], num_classes=8),\n",
              " Data(x=[1111, 24], edge_index=[2, 92332], y=[1111], weight=[92332], mask=[1111], num_classes=8),\n",
              " Data(x=[1111, 24], edge_index=[2, 92416], y=[1111], weight=[92416], mask=[1111], num_classes=8),\n",
              " Data(x=[1111, 24], edge_index=[2, 92364], y=[1111], weight=[92364], mask=[1111], num_classes=8),\n",
              " Data(x=[1111, 24], edge_index=[2, 92238], y=[1111], weight=[92238], mask=[1111], num_classes=8),\n",
              " Data(x=[1111, 24], edge_index=[2, 92306], y=[1111], weight=[92306], mask=[1111], num_classes=8),\n",
              " Data(x=[1111, 24], edge_index=[2, 92312], y=[1111], weight=[92312], mask=[1111], num_classes=8),\n",
              " Data(x=[1111, 24], edge_index=[2, 92224], y=[1111], weight=[92224], mask=[1111], num_classes=8),\n",
              " Data(x=[1111, 24], edge_index=[2, 92212], y=[1111], weight=[92212], mask=[1111], num_classes=8),\n",
              " Data(x=[1111, 24], edge_index=[2, 92380], y=[1111], weight=[92380], mask=[1111], num_classes=8),\n",
              " Data(x=[1111, 24], edge_index=[2, 92210], y=[1111], weight=[92210], mask=[1111], num_classes=8),\n",
              " Data(x=[1111, 24], edge_index=[2, 92234], y=[1111], weight=[92234], mask=[1111], num_classes=8),\n",
              " Data(x=[1111, 24], edge_index=[2, 92378], y=[1111], weight=[92378], mask=[1111], num_classes=8),\n",
              " Data(x=[1111, 24], edge_index=[2, 92256], y=[1111], weight=[92256], mask=[1111], num_classes=8),\n",
              " Data(x=[1111, 24], edge_index=[2, 92352], y=[1111], weight=[92352], mask=[1111], num_classes=8),\n",
              " Data(x=[1111, 24], edge_index=[2, 92236], y=[1111], weight=[92236], mask=[1111], num_classes=8),\n",
              " Data(x=[1111, 24], edge_index=[2, 92254], y=[1111], weight=[92254], mask=[1111], num_classes=8),\n",
              " Data(x=[1111, 24], edge_index=[2, 92238], y=[1111], weight=[92238], mask=[1111], num_classes=8),\n",
              " Data(x=[1111, 24], edge_index=[2, 92312], y=[1111], weight=[92312], mask=[1111], num_classes=8),\n",
              " Data(x=[1111, 24], edge_index=[2, 92228], y=[1111], weight=[92228], mask=[1111], num_classes=8),\n",
              " Data(x=[1111, 24], edge_index=[2, 92232], y=[1111], weight=[92232], mask=[1111], num_classes=8),\n",
              " Data(x=[1111, 24], edge_index=[2, 92336], y=[1111], weight=[92336], mask=[1111], num_classes=8),\n",
              " Data(x=[1111, 24], edge_index=[2, 92258], y=[1111], weight=[92258], mask=[1111], num_classes=8),\n",
              " Data(x=[1111, 24], edge_index=[2, 92220], y=[1111], weight=[92220], mask=[1111], num_classes=8),\n",
              " Data(x=[1111, 24], edge_index=[2, 92232], y=[1111], weight=[92232], mask=[1111], num_classes=8),\n",
              " Data(x=[1111, 24], edge_index=[2, 92220], y=[1111], weight=[92220], mask=[1111], num_classes=8),\n",
              " Data(x=[1111, 24], edge_index=[2, 92220], y=[1111], weight=[92220], mask=[1111], num_classes=8),\n",
              " Data(x=[1111, 24], edge_index=[2, 92242], y=[1111], weight=[92242], mask=[1111], num_classes=8),\n",
              " Data(x=[1111, 24], edge_index=[2, 92332], y=[1111], weight=[92332], mask=[1111], num_classes=8),\n",
              " Data(x=[1111, 24], edge_index=[2, 92214], y=[1111], weight=[92214], mask=[1111], num_classes=8),\n",
              " Data(x=[1111, 24], edge_index=[2, 92300], y=[1111], weight=[92300], mask=[1111], num_classes=8),\n",
              " Data(x=[1111, 24], edge_index=[2, 92238], y=[1111], weight=[92238], mask=[1111], num_classes=8),\n",
              " Data(x=[1111, 24], edge_index=[2, 92260], y=[1111], weight=[92260], mask=[1111], num_classes=8),\n",
              " Data(x=[1111, 24], edge_index=[2, 92244], y=[1111], weight=[92244], mask=[1111], num_classes=8),\n",
              " Data(x=[1111, 24], edge_index=[2, 92252], y=[1111], weight=[92252], mask=[1111], num_classes=8),\n",
              " Data(x=[1111, 24], edge_index=[2, 92248], y=[1111], weight=[92248], mask=[1111], num_classes=8)]"
            ]
          },
          "metadata": {},
          "execution_count": 44
        }
      ],
      "source": [
        "valid_graphs"
      ]
    },
    {
      "cell_type": "code",
      "execution_count": null,
      "metadata": {
        "id": "HAU3EB98UuYk",
        "colab": {
          "base_uri": "https://localhost:8080/"
        },
        "outputId": "ed1d1fb3-f631-424a-a451-06ba9c08e599"
      },
      "outputs": [
        {
          "output_type": "execute_result",
          "data": {
            "text/plain": [
              "[Data(x=[1111, 24], edge_index=[2, 92380], y=[1111], weight=[92380], mask=[1111], num_classes=8),\n",
              " Data(x=[1111, 24], edge_index=[2, 92420], y=[1111], weight=[92420], mask=[1111], num_classes=8),\n",
              " Data(x=[1111, 24], edge_index=[2, 92362], y=[1111], weight=[92362], mask=[1111], num_classes=8),\n",
              " Data(x=[1111, 24], edge_index=[2, 92382], y=[1111], weight=[92382], mask=[1111], num_classes=8),\n",
              " Data(x=[1111, 24], edge_index=[2, 92396], y=[1111], weight=[92396], mask=[1111], num_classes=8),\n",
              " Data(x=[1111, 24], edge_index=[2, 92380], y=[1111], weight=[92380], mask=[1111], num_classes=8),\n",
              " Data(x=[1111, 24], edge_index=[2, 92380], y=[1111], weight=[92380], mask=[1111], num_classes=8),\n",
              " Data(x=[1111, 24], edge_index=[2, 92346], y=[1111], weight=[92346], mask=[1111], num_classes=8),\n",
              " Data(x=[1111, 24], edge_index=[2, 92368], y=[1111], weight=[92368], mask=[1111], num_classes=8),\n",
              " Data(x=[1111, 24], edge_index=[2, 92366], y=[1111], weight=[92366], mask=[1111], num_classes=8),\n",
              " Data(x=[1111, 24], edge_index=[2, 92374], y=[1111], weight=[92374], mask=[1111], num_classes=8),\n",
              " Data(x=[1111, 24], edge_index=[2, 92386], y=[1111], weight=[92386], mask=[1111], num_classes=8),\n",
              " Data(x=[1111, 24], edge_index=[2, 92384], y=[1111], weight=[92384], mask=[1111], num_classes=8),\n",
              " Data(x=[1111, 24], edge_index=[2, 92352], y=[1111], weight=[92352], mask=[1111], num_classes=8),\n",
              " Data(x=[1111, 24], edge_index=[2, 92410], y=[1111], weight=[92410], mask=[1111], num_classes=8),\n",
              " Data(x=[1111, 24], edge_index=[2, 92372], y=[1111], weight=[92372], mask=[1111], num_classes=8),\n",
              " Data(x=[1111, 24], edge_index=[2, 92340], y=[1111], weight=[92340], mask=[1111], num_classes=8),\n",
              " Data(x=[1111, 24], edge_index=[2, 92394], y=[1111], weight=[92394], mask=[1111], num_classes=8),\n",
              " Data(x=[1111, 24], edge_index=[2, 92376], y=[1111], weight=[92376], mask=[1111], num_classes=8),\n",
              " Data(x=[1111, 24], edge_index=[2, 92374], y=[1111], weight=[92374], mask=[1111], num_classes=8),\n",
              " Data(x=[1111, 24], edge_index=[2, 92370], y=[1111], weight=[92370], mask=[1111], num_classes=8),\n",
              " Data(x=[1111, 24], edge_index=[2, 92390], y=[1111], weight=[92390], mask=[1111], num_classes=8),\n",
              " Data(x=[1111, 24], edge_index=[2, 92400], y=[1111], weight=[92400], mask=[1111], num_classes=8),\n",
              " Data(x=[1111, 24], edge_index=[2, 92382], y=[1111], weight=[92382], mask=[1111], num_classes=8),\n",
              " Data(x=[1111, 24], edge_index=[2, 92390], y=[1111], weight=[92390], mask=[1111], num_classes=8),\n",
              " Data(x=[1111, 24], edge_index=[2, 92372], y=[1111], weight=[92372], mask=[1111], num_classes=8),\n",
              " Data(x=[1111, 24], edge_index=[2, 92376], y=[1111], weight=[92376], mask=[1111], num_classes=8),\n",
              " Data(x=[1111, 24], edge_index=[2, 92406], y=[1111], weight=[92406], mask=[1111], num_classes=8),\n",
              " Data(x=[1111, 24], edge_index=[2, 92388], y=[1111], weight=[92388], mask=[1111], num_classes=8),\n",
              " Data(x=[1111, 24], edge_index=[2, 92368], y=[1111], weight=[92368], mask=[1111], num_classes=8),\n",
              " Data(x=[1111, 24], edge_index=[2, 92354], y=[1111], weight=[92354], mask=[1111], num_classes=8)]"
            ]
          },
          "metadata": {},
          "execution_count": 45
        }
      ],
      "source": [
        "unknown_graphs"
      ]
    },
    {
      "cell_type": "markdown",
      "metadata": {
        "id": "qcap-FRdqbad"
      },
      "source": [
        "We can treat `Data` object as a dictionary, you can fing more information about that class in [manual](https://pytorch-geometric.readthedocs.io/en/latest/generated/torch_geometric.data.Data.html). Here is how to access"
      ]
    },
    {
      "cell_type": "code",
      "execution_count": null,
      "metadata": {
        "id": "bQU-7Agyqqby",
        "colab": {
          "base_uri": "https://localhost:8080/"
        },
        "outputId": "eae4d894-18ee-4628-f1d9-eb6bb7177120"
      },
      "outputs": [
        {
          "output_type": "execute_result",
          "data": {
            "text/plain": [
              "Data(x=[1110, 24], edge_index=[2, 92120], y=[1110], weight=[92120], mask=[1110], num_classes=8)"
            ]
          },
          "metadata": {},
          "execution_count": 46
        }
      ],
      "source": [
        "# this is your trainign graph\n",
        "train_graphs[0]"
      ]
    },
    {
      "cell_type": "code",
      "execution_count": null,
      "metadata": {
        "id": "BPUSL8Iuq48K",
        "colab": {
          "base_uri": "https://localhost:8080/"
        },
        "outputId": "1a4f73a3-97d7-4d49-f2dd-4beb9bb95fea"
      },
      "outputs": [
        {
          "output_type": "execute_result",
          "data": {
            "text/plain": [
              "tensor([[13., 23., 16.,  ...,  0.,  0.,  0.],\n",
              "        [ 8.,  9.,  6.,  ...,  0.,  0.,  0.],\n",
              "        [ 8., 13., 10.,  ...,  0.,  0.,  0.],\n",
              "        ...,\n",
              "        [ 8., 14., 55.,  ...,  0.,  0.,  0.],\n",
              "        [ 5., 21., 55.,  ...,  0.,  0.,  0.],\n",
              "        [32., 20.,  9.,  ...,  0.,  0.,  0.]], dtype=torch.float64)"
            ]
          },
          "metadata": {},
          "execution_count": 47
        }
      ],
      "source": [
        "# this is your features\n",
        "train_graphs[0].x"
      ]
    },
    {
      "cell_type": "code",
      "execution_count": null,
      "metadata": {
        "id": "eL_44q28q_JS",
        "colab": {
          "base_uri": "https://localhost:8080/"
        },
        "outputId": "8b8050d7-ab90-40f9-dd44-5aae3ba21b3a"
      },
      "outputs": [
        {
          "output_type": "execute_result",
          "data": {
            "text/plain": [
              "torch.Size([1110, 24])"
            ]
          },
          "metadata": {},
          "execution_count": 48
        }
      ],
      "source": [
        "train_graphs[0].x.shape"
      ]
    },
    {
      "cell_type": "code",
      "execution_count": null,
      "metadata": {
        "id": "AlfGAUIWrHRF",
        "colab": {
          "base_uri": "https://localhost:8080/"
        },
        "outputId": "c407591b-a5d9-4d9d-83ed-e2ca6f3c2347"
      },
      "outputs": [
        {
          "output_type": "execute_result",
          "data": {
            "text/plain": [
              "tensor([[   0,    0,    0,  ..., 1109, 1109, 1109],\n",
              "        [   8,   31,   32,  ..., 1076, 1083, 1100]])"
            ]
          },
          "metadata": {},
          "execution_count": 49
        }
      ],
      "source": [
        "# this is your edges between vertices\n",
        "train_graphs[0].edge_index"
      ]
    },
    {
      "cell_type": "code",
      "execution_count": null,
      "metadata": {
        "id": "1U02X6Q6rfIW",
        "colab": {
          "base_uri": "https://localhost:8080/"
        },
        "outputId": "7c887dc0-d577-49b9-bb30-8b100e3f11dc"
      },
      "outputs": [
        {
          "output_type": "execute_result",
          "data": {
            "text/plain": [
              "torch.Size([2, 92120])"
            ]
          },
          "metadata": {},
          "execution_count": 50
        }
      ],
      "source": [
        "train_graphs[0].edge_index.shape"
      ]
    },
    {
      "cell_type": "code",
      "execution_count": null,
      "metadata": {
        "id": "pU19JFGrrjlH",
        "colab": {
          "base_uri": "https://localhost:8080/"
        },
        "outputId": "eb1822d3-9c3a-443c-e480-c43423744056"
      },
      "outputs": [
        {
          "output_type": "execute_result",
          "data": {
            "text/plain": [
              "8"
            ]
          },
          "metadata": {},
          "execution_count": 51
        }
      ],
      "source": [
        "# here is total number of population groups (labels)\n",
        "train_graphs[0].num_classes"
      ]
    },
    {
      "cell_type": "markdown",
      "metadata": {
        "id": "45w85h00r6TI"
      },
      "source": [
        "or add/remove parameters there"
      ]
    },
    {
      "cell_type": "code",
      "execution_count": null,
      "metadata": {
        "id": "9qBYi-XPr55I"
      },
      "outputs": [],
      "source": [
        "# add new attribute\n",
        "train_graphs[0].useless_parameter = 123"
      ]
    },
    {
      "cell_type": "code",
      "execution_count": null,
      "metadata": {
        "id": "AD0KqwvMsHtS",
        "colab": {
          "base_uri": "https://localhost:8080/"
        },
        "outputId": "97f6d828-1af5-485d-dd03-80c84ca6254c"
      },
      "outputs": [
        {
          "output_type": "execute_result",
          "data": {
            "text/plain": [
              "Data(x=[1110, 24], edge_index=[2, 92120], y=[1110], weight=[92120], mask=[1110], num_classes=8, useless_parameter=123)"
            ]
          },
          "metadata": {},
          "execution_count": 53
        }
      ],
      "source": [
        "# check that new attribute has been added correctly\n",
        "train_graphs[0]"
      ]
    },
    {
      "cell_type": "code",
      "execution_count": null,
      "metadata": {
        "id": "eJw_elaLsJdS"
      },
      "outputs": [],
      "source": [
        "# remove that new attrubute\n",
        "train_graphs[0].useless_parameter = None"
      ]
    },
    {
      "cell_type": "code",
      "execution_count": null,
      "metadata": {
        "id": "c5PMtvoLsMtO",
        "colab": {
          "base_uri": "https://localhost:8080/"
        },
        "outputId": "30d62c93-dadf-4262-96a9-22a28d977e7c"
      },
      "outputs": [
        {
          "output_type": "execute_result",
          "data": {
            "text/plain": [
              "Data(x=[1110, 24], edge_index=[2, 92120], y=[1110], weight=[92120], mask=[1110], num_classes=8)"
            ]
          },
          "metadata": {},
          "execution_count": 55
        }
      ],
      "source": [
        "# check that new attribute has been removed correctly\n",
        "train_graphs[0]"
      ]
    },
    {
      "cell_type": "markdown",
      "metadata": {
        "id": "xSkhdaFHWkBl"
      },
      "source": [
        "Check that core of all graphs is the same. We need to convert `Data` object from Torch Geometric to `nx.Graph` object because only `networkx` library has the function to check graph isomorphism. [Here](https://pytorch-geometric.readthedocs.io/en/latest/_modules/torch_geometric/utils/convert.html) are some useful Torch Geometric utils (including `to_networkx` function, that has a lot of interesting parameters)"
      ]
    },
    {
      "cell_type": "code",
      "execution_count": null,
      "metadata": {
        "id": "PfUXpjE7U49D"
      },
      "outputs": [],
      "source": [
        "train_graph_nx = to_networkx(train_graphs[0])"
      ]
    },
    {
      "cell_type": "code",
      "source": [
        "print(f'Diameter of the training graph is: {nx.diameter(train_graph_nx)}')"
      ],
      "metadata": {
        "id": "E-ezBDvoQLzG",
        "colab": {
          "base_uri": "https://localhost:8080/"
        },
        "outputId": "4ea6f7e0-b6b2-465b-bb77-8f1c36dd09f2"
      },
      "execution_count": null,
      "outputs": [
        {
          "output_type": "stream",
          "name": "stdout",
          "text": [
            "Diameter of the training graph is: 3\n"
          ]
        }
      ]
    },
    {
      "cell_type": "code",
      "execution_count": null,
      "metadata": {
        "id": "JCU5ptKjZzs1",
        "colab": {
          "base_uri": "https://localhost:8080/"
        },
        "outputId": "738825bb-8b2f-4b87-e25a-47d3fe08f625"
      },
      "outputs": [
        {
          "output_type": "stream",
          "name": "stdout",
          "text": [
            "Is directed: True, number of edges: 92120, number of nodes: 1110\n"
          ]
        }
      ],
      "source": [
        "print(f'Is directed: {train_graph_nx.is_directed()}, number of edges: {train_graph_nx.number_of_edges()}, number of nodes: {train_graph_nx.number_of_nodes()}')"
      ]
    },
    {
      "cell_type": "code",
      "execution_count": null,
      "metadata": {
        "id": "REYeAxYcaRO6"
      },
      "outputs": [],
      "source": [
        "train_graph_nx = nx.Graph(train_graph_nx)"
      ]
    },
    {
      "cell_type": "code",
      "execution_count": null,
      "metadata": {
        "id": "N5EfkEjfaW85",
        "colab": {
          "base_uri": "https://localhost:8080/"
        },
        "outputId": "85b54694-dac5-42d6-9eb2-e13c48823382"
      },
      "outputs": [
        {
          "output_type": "stream",
          "name": "stdout",
          "text": [
            "Is directed: False, number of edges: 46060, number of nodes: 1110\n"
          ]
        }
      ],
      "source": [
        "print(f'Is directed: {train_graph_nx.is_directed()}, number of edges: {train_graph_nx.number_of_edges()}, number of nodes: {train_graph_nx.number_of_nodes()}')"
      ]
    },
    {
      "cell_type": "code",
      "execution_count": null,
      "metadata": {
        "id": "hLXySMwUXeqZ"
      },
      "outputs": [],
      "source": [
        "# this may run up to 15 min long, it is not necessary for the task, you can skip it\n",
        "for graph in valid_graphs:\n",
        "    nx_graph = nx.Graph(to_networkx(graph))\n",
        "    nx_graph = nx_graph.subgraph([i for i in range(train_graph_nx.number_of_nodes())])\n",
        "    assert nx.vf2pp_is_isomorphic(nx_graph, train_graph_nx, node_label=None)"
      ]
    },
    {
      "cell_type": "code",
      "execution_count": null,
      "metadata": {
        "id": "tnWN3CGyc2EZ"
      },
      "outputs": [],
      "source": [
        "# this may run up to 5 min long, it is not necessary for the task, you can skip it\n",
        "for graph in unknown_graphs:\n",
        "    nx_graph = nx.Graph(to_networkx(graph))\n",
        "    nx_graph = nx_graph.subgraph([i for i in range(train_graph_nx.number_of_nodes())])\n",
        "    assert nx.vf2pp_is_isomorphic(nx_graph, train_graph_nx, node_label=None)"
      ]
    },
    {
      "cell_type": "markdown",
      "metadata": {
        "id": "4fpDsmwJusZP"
      },
      "source": [
        "Define GNN model. Hints: use `SAGEConv` layers and `ELU` activation function, don't use large hidden size, `128` is upper limit. Also, `Data(...).num_features` will give you 2-nd dimention of you features which is useful for stacking layers. You can convert your torch tensors to float dtype by using `.float()`. [Here](https://pytorch-geometric.readthedocs.io/en/latest/cheatsheet/gnn_cheatsheet.html) is the list of all layers available in torch geometric."
      ]
    },
    {
      "cell_type": "code",
      "execution_count": null,
      "metadata": {
        "id": "LCVgRrxTfyzI"
      },
      "outputs": [],
      "source": [
        "class Model(torch.nn.Module):\n",
        "    def __init__(self, data):\n",
        "        super(Model, self).__init__()\n",
        "        self.conv1 = # SAGEConv\n",
        "        # ...\n",
        "\n",
        "    def forward(self, data):\n",
        "        # x, edge_index = ...\n",
        "        # ...\n",
        "\n",
        "        return x"
      ]
    },
    {
      "cell_type": "markdown",
      "metadata": {
        "id": "63ElAJVgvpmb"
      },
      "source": [
        "Initialize model, loss and optimizer. Remember, we solve single-label classification problem"
      ]
    },
    {
      "cell_type": "code",
      "execution_count": null,
      "metadata": {
        "id": "L0DzUq9gvkTn"
      },
      "outputs": [],
      "source": [
        "model = # ...\n",
        "criterion = # ...\n",
        "optimizer = # ..."
      ]
    },
    {
      "cell_type": "markdown",
      "metadata": {
        "id": "hHXvtG4rAloQ"
      },
      "source": [
        "Validation function"
      ]
    },
    {
      "cell_type": "code",
      "execution_count": null,
      "metadata": {
        "id": "aIjQEQXXAlDX"
      },
      "outputs": [],
      "source": [
        "def validate(model, val_graphs):\n",
        "    # ... (remember to validate only on newly added nodes, do not use all 1110 nodes for validation)\n",
        "\n",
        "    return # f1 macro score"
      ]
    },
    {
      "cell_type": "markdown",
      "metadata": {
        "id": "KpTssKMQwVpJ"
      },
      "source": [
        "Training loop"
      ]
    },
    {
      "cell_type": "code",
      "execution_count": null,
      "metadata": {
        "id": "rUVjq4iEwUwU"
      },
      "outputs": [],
      "source": [
        "# drop gradients\n",
        "# predict\n",
        "# validate\n",
        "# calculate loss\n",
        "# backpropagation\n",
        "# change optimizer state"
      ]
    },
    {
      "cell_type": "markdown",
      "metadata": {
        "id": "5KTJpW22xdOK"
      },
      "source": [
        "Testing on unknown nodes"
      ]
    },
    {
      "cell_type": "code",
      "execution_count": null,
      "metadata": {
        "id": "8aZV-qBSxYWM"
      },
      "outputs": [],
      "source": [
        "# model.eval()\n",
        "# ..."
      ]
    },
    {
      "cell_type": "markdown",
      "metadata": {
        "id": "05fPMgZswfYL"
      },
      "source": [
        "Visualize predictions. The node that is bigger than others is your target node."
      ]
    },
    {
      "cell_type": "code",
      "execution_count": null,
      "metadata": {
        "id": "SWksBTToylXe"
      },
      "outputs": [],
      "source": [
        "def truncate_colormap(cmap, minval=0.0, maxval=1.0, n=100):\n",
        "    new_cmap = colors.LinearSegmentedColormap.from_list(\n",
        "        'trunc({n},{a:.2f},{b:.2f})'.format(n=cmap.name, a=minval, b=maxval),\n",
        "        cmap(np.linspace(minval, maxval, n)))\n",
        "    return new_cmap\n",
        "\n",
        "def visualize_predictions(model, test_graph, number_of_classes, use_component=False):\n",
        "    '''\n",
        "    Function that helps visually compare predictions from the model with grounnd truth values\n",
        "\n",
        "    Parameters\n",
        "    model: your trained model\n",
        "    test_graph: Data(...) object from torch geometric\n",
        "    number_of_classes: num_classes in Data(...) object\n",
        "    use_component: if True, will draw the whole component with target node, otherwise (if False) will draw only target node and neighbors of target node\n",
        "    '''\n",
        "    preds = np.argmax(F.softmax(model(test_graph), dim=1).cpu().detach().numpy(), axis=-1)\n",
        "\n",
        "    graph = to_networkx(test_graph, edge_attrs=['weight'], node_attrs=['y', 'mask'], to_undirected=True)\n",
        "    print(f'Number of initial nodes: {len(graph)}')\n",
        "    last_node_id = len(graph)-1\n",
        "    pred_attrs = {i:{'predict':p} for i, p in enumerate(preds)}\n",
        "    nx.set_node_attributes(graph, pred_attrs)\n",
        "\n",
        "    if use_component:\n",
        "        print(f'Number of connected components:{nx.number_connected_components(graph)}')\n",
        "        for c in nx.connected_components(graph):\n",
        "            if len(graph)-1 in c:\n",
        "                test_node_neighbors = list(c)\n",
        "                break\n",
        "    else:\n",
        "        test_node_neighbors = list(graph.neighbors(len(graph)-1)) + [len(graph)-1]\n",
        "\n",
        "    graph = nx.subgraph(graph, test_node_neighbors)\n",
        "    print(f'Number of final nodes: {len(graph)}')\n",
        "    node_classes = [f'P{i}' for i in range(number_of_classes)]\n",
        "    if -1 in test_graph.y:\n",
        "        node_classes.append('unknown')\n",
        "\n",
        "    cmap = mpl.colormaps['jet']\n",
        "    px = 1 / plt.rcParams['figure.dpi']\n",
        "    colors = cmap(np.linspace(0, 1, len(np.unique(node_classes))))\n",
        "\n",
        "    pos = nx.spring_layout(graph, iterations=10)\n",
        "    plt.clf()\n",
        "    fig, (ax1, ax2) = plt.subplots(1, 2, figsize=(1400 * px, 600 * px))\n",
        "    ax1.axis('off')\n",
        "    ax2.axis('off')\n",
        "    ax2.set_title(f'Ground truth')\n",
        "    ax1.set_title(f'Prediction')\n",
        "\n",
        "    y = list(nx.get_node_attributes(graph,'y').values())\n",
        "    mask = np.array(list(nx.get_node_attributes(graph,'mask').values()))\n",
        "    preds = list(nx.get_node_attributes(graph,'predict').values())\n",
        "\n",
        "    current_node_colors = []\n",
        "    real_node_colors = []\n",
        "\n",
        "    for cls in y:\n",
        "        real_node_colors.append(colors[cls])\n",
        "\n",
        "    for cls in preds:\n",
        "        current_node_colors.append(colors[cls])\n",
        "\n",
        "    if np.sum(~mask) == 0:\n",
        "        nx.draw_networkx_nodes(graph, pos=pos, node_color=current_node_colors, node_size=[24 if node != last_node_id else 150 for node in graph.nodes], ax=ax1)\n",
        "    else:\n",
        "        print('Using masks')\n",
        "        assert np.all(np.array(list(graph)) == np.array(list(graph.nodes)))\n",
        "        nx.draw_networkx_nodes(graph, pos=pos, nodelist=np.array(list(graph))[mask], node_color=np.array(current_node_colors)[mask], node_size=[24 if node != last_node_id else 150 for node in np.array(list(graph))[mask]], ax=ax1)\n",
        "        nx.draw_networkx_nodes(graph, pos=pos, nodelist=np.array(list(graph))[~mask], node_shape='s', node_color=np.array(current_node_colors)[~mask], node_size=[24 if node != last_node_id else 150 for node in np.array(list(graph))[~mask]], ax=ax1)\n",
        "    nx.draw_networkx_nodes(graph, pos=pos, node_color=real_node_colors, node_size=[24 if node != last_node_id else 150 for node in graph.nodes], ax=ax2)\n",
        "\n",
        "    edges, weights = zip(*nx.get_edge_attributes(graph,'weight').items())\n",
        "\n",
        "    new_cmap = truncate_colormap(plt.cm.Blues, 0.2, 1.0)\n",
        "    nx.draw_networkx_edges(graph, pos=pos, alpha=0.5, width=1, edge_cmap=new_cmap, edge_color=weights, ax=ax1)\n",
        "    nx.draw_networkx_edges(graph, pos=pos, alpha=0.5, width=1, edge_cmap=new_cmap, edge_color=weights, ax=ax2)\n",
        "\n",
        "    for i, clr in enumerate(colors):\n",
        "        ax1.scatter([],[], c=clr, label=f'{node_classes[i]}')\n",
        "        ax2.scatter([],[], c=clr, label=f'{node_classes[i]}')\n",
        "\n",
        "    ax1.legend(prop={'size': 6})\n",
        "    ax2.legend(prop={'size': 6})\n",
        "\n",
        "    plt.show()"
      ]
    },
    {
      "cell_type": "code",
      "execution_count": null,
      "metadata": {
        "id": "hXCrj4TEaCw7"
      },
      "outputs": [],
      "source": [
        "itm = 10"
      ]
    },
    {
      "cell_type": "code",
      "execution_count": null,
      "metadata": {
        "id": "gSOq_AC2xKp_"
      },
      "outputs": [],
      "source": [
        "visualize_predictions(model, unknown_graphs[itm], unknown_graphs[itm].num_classes, use_component=False)"
      ]
    },
    {
      "cell_type": "code",
      "execution_count": null,
      "metadata": {
        "id": "3XHnmJqvz5K7"
      },
      "outputs": [],
      "source": [
        "visualize_predictions(model, valid_graphs[itm], valid_graphs[itm].num_classes, use_component=False)"
      ]
    },
    {
      "cell_type": "markdown",
      "metadata": {
        "id": "l1k7Sixeiceq"
      },
      "source": [
        "Here is example of non AI algorithm"
      ]
    },
    {
      "cell_type": "markdown",
      "source": [
        "Label Propagation"
      ],
      "metadata": {
        "id": "dW5_pytvdVlM"
      }
    },
    {
      "cell_type": "code",
      "execution_count": null,
      "metadata": {
        "id": "9i8przovaNvw"
      },
      "outputs": [],
      "source": [
        "label_propagation_model = LabelPropagation(num_layers=3, alpha=0.5)"
      ]
    },
    {
      "cell_type": "code",
      "source": [
        "whatever_class = 0\n",
        "preds = []\n",
        "for graph in unknown_graphs:\n",
        "    node_mask = [True] * (len(graph.y)-1) + [False]\n",
        "    preds.append(label_propagation_model(y=torch.tensor(graph.y.cpu().numpy().tolist()[:-1] + [whatever_class]).long(), mask=node_mask,  edge_index=graph.edge_index).argmax(dim=-1)[-1])"
      ],
      "metadata": {
        "id": "T3FngqoedxJj"
      },
      "execution_count": null,
      "outputs": []
    },
    {
      "cell_type": "code",
      "source": [
        "preds"
      ],
      "metadata": {
        "id": "SYJBrvkLeWVz"
      },
      "execution_count": null,
      "outputs": []
    },
    {
      "cell_type": "markdown",
      "source": [
        "What about Spectral Clustering?"
      ],
      "metadata": {
        "id": "AgxjZz1CgLTy"
      }
    }
  ],
  "metadata": {
    "colab": {
      "provenance": []
    },
    "kernelspec": {
      "display_name": "Python 3",
      "name": "python3"
    },
    "language_info": {
      "name": "python"
    }
  },
  "nbformat": 4,
  "nbformat_minor": 0
}